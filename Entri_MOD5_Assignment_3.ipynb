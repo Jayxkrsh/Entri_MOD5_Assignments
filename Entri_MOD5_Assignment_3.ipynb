{
 "cells": [
  {
   "cell_type": "markdown",
   "id": "7ac42d58-7520-495c-9e91-50b7333f1c13",
   "metadata": {},
   "source": [
    "# Entri MOD 5 Assignment 3"
   ]
  },
  {
   "cell_type": "markdown",
   "id": "9f654d87-1076-4e91-8e50-a43e4dae6584",
   "metadata": {},
   "source": [
    "### Importing Libraries"
   ]
  },
  {
   "cell_type": "code",
   "execution_count": 201,
   "id": "f803aa57-a775-4b72-bb3a-61d6336216d3",
   "metadata": {},
   "outputs": [],
   "source": [
    "import warnings\n",
    "warnings.filterwarnings(\"ignore\")\n",
    "\n",
    "import pandas as pd\n",
    "import numpy as np\n",
    "import seaborn as sns\n",
    "import matplotlib.pyplot as plt\n",
    "from sklearn.datasets import fetch_california_housing\n",
    "from sklearn.preprocessing import StandardScaler\n",
    "from sklearn.linear_model import LinearRegression\n",
    "from sklearn.model_selection import train_test_split\n",
    "from sklearn.metrics import mean_absolute_error, mean_squared_error, r2_score\n",
    "from sklearn.tree import DecisionTreeRegressor\n",
    "from sklearn.ensemble import RandomForestRegressor"
   ]
  },
  {
   "cell_type": "markdown",
   "id": "281537f1-e639-4747-bd0e-4f0397f51b7e",
   "metadata": {},
   "source": [
    "#### Load the data"
   ]
  },
  {
   "cell_type": "code",
   "execution_count": 127,
   "id": "7ed3c135-94e2-4740-91a4-18a83f3c22c3",
   "metadata": {},
   "outputs": [],
   "source": [
    "california_housing = fetch_california_housing()"
   ]
  },
  {
   "cell_type": "markdown",
   "id": "60150e68-7b85-453a-8fc1-3419156b6a11",
   "metadata": {},
   "source": [
    "#### Creating the dataframe"
   ]
  },
  {
   "cell_type": "code",
   "execution_count": 129,
   "id": "600c5054-41a4-4c78-9eb3-a9b3d4854b25",
   "metadata": {},
   "outputs": [],
   "source": [
    "df = pd.DataFrame(california_housing.data, columns=california_housing.feature_names)\n",
    "df['MedHouseValue'] = california_housing.target\n"
   ]
  },
  {
   "cell_type": "markdown",
   "id": "ff854f4a-f4c2-498a-979c-1da87cb3385a",
   "metadata": {},
   "source": [
    "#### Data Explorations"
   ]
  },
  {
   "cell_type": "code",
   "execution_count": 131,
   "id": "57df69f1-b145-4f4f-94a2-7a504105d20e",
   "metadata": {},
   "outputs": [
    {
     "data": {
      "text/html": [
       "<div>\n",
       "<style scoped>\n",
       "    .dataframe tbody tr th:only-of-type {\n",
       "        vertical-align: middle;\n",
       "    }\n",
       "\n",
       "    .dataframe tbody tr th {\n",
       "        vertical-align: top;\n",
       "    }\n",
       "\n",
       "    .dataframe thead th {\n",
       "        text-align: right;\n",
       "    }\n",
       "</style>\n",
       "<table border=\"1\" class=\"dataframe\">\n",
       "  <thead>\n",
       "    <tr style=\"text-align: right;\">\n",
       "      <th></th>\n",
       "      <th>MedInc</th>\n",
       "      <th>HouseAge</th>\n",
       "      <th>AveRooms</th>\n",
       "      <th>AveBedrms</th>\n",
       "      <th>Population</th>\n",
       "      <th>AveOccup</th>\n",
       "      <th>Latitude</th>\n",
       "      <th>Longitude</th>\n",
       "      <th>MedHouseValue</th>\n",
       "    </tr>\n",
       "  </thead>\n",
       "  <tbody>\n",
       "    <tr>\n",
       "      <th>0</th>\n",
       "      <td>8.3252</td>\n",
       "      <td>41.0</td>\n",
       "      <td>6.984127</td>\n",
       "      <td>1.023810</td>\n",
       "      <td>322.0</td>\n",
       "      <td>2.555556</td>\n",
       "      <td>37.88</td>\n",
       "      <td>-122.23</td>\n",
       "      <td>4.526</td>\n",
       "    </tr>\n",
       "    <tr>\n",
       "      <th>1</th>\n",
       "      <td>8.3014</td>\n",
       "      <td>21.0</td>\n",
       "      <td>6.238137</td>\n",
       "      <td>0.971880</td>\n",
       "      <td>2401.0</td>\n",
       "      <td>2.109842</td>\n",
       "      <td>37.86</td>\n",
       "      <td>-122.22</td>\n",
       "      <td>3.585</td>\n",
       "    </tr>\n",
       "    <tr>\n",
       "      <th>2</th>\n",
       "      <td>7.2574</td>\n",
       "      <td>52.0</td>\n",
       "      <td>8.288136</td>\n",
       "      <td>1.073446</td>\n",
       "      <td>496.0</td>\n",
       "      <td>2.802260</td>\n",
       "      <td>37.85</td>\n",
       "      <td>-122.24</td>\n",
       "      <td>3.521</td>\n",
       "    </tr>\n",
       "    <tr>\n",
       "      <th>3</th>\n",
       "      <td>5.6431</td>\n",
       "      <td>52.0</td>\n",
       "      <td>5.817352</td>\n",
       "      <td>1.073059</td>\n",
       "      <td>558.0</td>\n",
       "      <td>2.547945</td>\n",
       "      <td>37.85</td>\n",
       "      <td>-122.25</td>\n",
       "      <td>3.413</td>\n",
       "    </tr>\n",
       "    <tr>\n",
       "      <th>4</th>\n",
       "      <td>3.8462</td>\n",
       "      <td>52.0</td>\n",
       "      <td>6.281853</td>\n",
       "      <td>1.081081</td>\n",
       "      <td>565.0</td>\n",
       "      <td>2.181467</td>\n",
       "      <td>37.85</td>\n",
       "      <td>-122.25</td>\n",
       "      <td>3.422</td>\n",
       "    </tr>\n",
       "  </tbody>\n",
       "</table>\n",
       "</div>"
      ],
      "text/plain": [
       "   MedInc  HouseAge  AveRooms  AveBedrms  Population  AveOccup  Latitude  \\\n",
       "0  8.3252      41.0  6.984127   1.023810       322.0  2.555556     37.88   \n",
       "1  8.3014      21.0  6.238137   0.971880      2401.0  2.109842     37.86   \n",
       "2  7.2574      52.0  8.288136   1.073446       496.0  2.802260     37.85   \n",
       "3  5.6431      52.0  5.817352   1.073059       558.0  2.547945     37.85   \n",
       "4  3.8462      52.0  6.281853   1.081081       565.0  2.181467     37.85   \n",
       "\n",
       "   Longitude  MedHouseValue  \n",
       "0    -122.23          4.526  \n",
       "1    -122.22          3.585  \n",
       "2    -122.24          3.521  \n",
       "3    -122.25          3.413  \n",
       "4    -122.25          3.422  "
      ]
     },
     "execution_count": 131,
     "metadata": {},
     "output_type": "execute_result"
    }
   ],
   "source": [
    "df.head()"
   ]
  },
  {
   "cell_type": "code",
   "execution_count": 132,
   "id": "2c5bd0ec-fe3d-4c13-9123-9a10729f9514",
   "metadata": {},
   "outputs": [
    {
     "data": {
      "text/plain": [
       "(20640, 9)"
      ]
     },
     "execution_count": 132,
     "metadata": {},
     "output_type": "execute_result"
    }
   ],
   "source": [
    "df.shape"
   ]
  },
  {
   "cell_type": "code",
   "execution_count": 133,
   "id": "60eefd2c-4828-4972-ade8-f3f1779ae302",
   "metadata": {},
   "outputs": [
    {
     "name": "stdout",
     "output_type": "stream",
     "text": [
      "<class 'pandas.core.frame.DataFrame'>\n",
      "RangeIndex: 20640 entries, 0 to 20639\n",
      "Data columns (total 9 columns):\n",
      " #   Column         Non-Null Count  Dtype  \n",
      "---  ------         --------------  -----  \n",
      " 0   MedInc         20640 non-null  float64\n",
      " 1   HouseAge       20640 non-null  float64\n",
      " 2   AveRooms       20640 non-null  float64\n",
      " 3   AveBedrms      20640 non-null  float64\n",
      " 4   Population     20640 non-null  float64\n",
      " 5   AveOccup       20640 non-null  float64\n",
      " 6   Latitude       20640 non-null  float64\n",
      " 7   Longitude      20640 non-null  float64\n",
      " 8   MedHouseValue  20640 non-null  float64\n",
      "dtypes: float64(9)\n",
      "memory usage: 1.4 MB\n"
     ]
    }
   ],
   "source": [
    "df.info()"
   ]
  },
  {
   "cell_type": "code",
   "execution_count": 134,
   "id": "75932991-1970-4a3a-b5f4-20f1a5ef24f4",
   "metadata": {},
   "outputs": [
    {
     "data": {
      "text/html": [
       "<div>\n",
       "<style scoped>\n",
       "    .dataframe tbody tr th:only-of-type {\n",
       "        vertical-align: middle;\n",
       "    }\n",
       "\n",
       "    .dataframe tbody tr th {\n",
       "        vertical-align: top;\n",
       "    }\n",
       "\n",
       "    .dataframe thead th {\n",
       "        text-align: right;\n",
       "    }\n",
       "</style>\n",
       "<table border=\"1\" class=\"dataframe\">\n",
       "  <thead>\n",
       "    <tr style=\"text-align: right;\">\n",
       "      <th></th>\n",
       "      <th>MedInc</th>\n",
       "      <th>HouseAge</th>\n",
       "      <th>AveRooms</th>\n",
       "      <th>AveBedrms</th>\n",
       "      <th>Population</th>\n",
       "      <th>AveOccup</th>\n",
       "      <th>Latitude</th>\n",
       "      <th>Longitude</th>\n",
       "      <th>MedHouseValue</th>\n",
       "    </tr>\n",
       "  </thead>\n",
       "  <tbody>\n",
       "    <tr>\n",
       "      <th>count</th>\n",
       "      <td>20640.000000</td>\n",
       "      <td>20640.000000</td>\n",
       "      <td>20640.000000</td>\n",
       "      <td>20640.000000</td>\n",
       "      <td>20640.000000</td>\n",
       "      <td>20640.000000</td>\n",
       "      <td>20640.000000</td>\n",
       "      <td>20640.000000</td>\n",
       "      <td>20640.000000</td>\n",
       "    </tr>\n",
       "    <tr>\n",
       "      <th>mean</th>\n",
       "      <td>3.870671</td>\n",
       "      <td>28.639486</td>\n",
       "      <td>5.429000</td>\n",
       "      <td>1.096675</td>\n",
       "      <td>1425.476744</td>\n",
       "      <td>3.070655</td>\n",
       "      <td>35.631861</td>\n",
       "      <td>-119.569704</td>\n",
       "      <td>2.068558</td>\n",
       "    </tr>\n",
       "    <tr>\n",
       "      <th>std</th>\n",
       "      <td>1.899822</td>\n",
       "      <td>12.585558</td>\n",
       "      <td>2.474173</td>\n",
       "      <td>0.473911</td>\n",
       "      <td>1132.462122</td>\n",
       "      <td>10.386050</td>\n",
       "      <td>2.135952</td>\n",
       "      <td>2.003532</td>\n",
       "      <td>1.153956</td>\n",
       "    </tr>\n",
       "    <tr>\n",
       "      <th>min</th>\n",
       "      <td>0.499900</td>\n",
       "      <td>1.000000</td>\n",
       "      <td>0.846154</td>\n",
       "      <td>0.333333</td>\n",
       "      <td>3.000000</td>\n",
       "      <td>0.692308</td>\n",
       "      <td>32.540000</td>\n",
       "      <td>-124.350000</td>\n",
       "      <td>0.149990</td>\n",
       "    </tr>\n",
       "    <tr>\n",
       "      <th>25%</th>\n",
       "      <td>2.563400</td>\n",
       "      <td>18.000000</td>\n",
       "      <td>4.440716</td>\n",
       "      <td>1.006079</td>\n",
       "      <td>787.000000</td>\n",
       "      <td>2.429741</td>\n",
       "      <td>33.930000</td>\n",
       "      <td>-121.800000</td>\n",
       "      <td>1.196000</td>\n",
       "    </tr>\n",
       "    <tr>\n",
       "      <th>50%</th>\n",
       "      <td>3.534800</td>\n",
       "      <td>29.000000</td>\n",
       "      <td>5.229129</td>\n",
       "      <td>1.048780</td>\n",
       "      <td>1166.000000</td>\n",
       "      <td>2.818116</td>\n",
       "      <td>34.260000</td>\n",
       "      <td>-118.490000</td>\n",
       "      <td>1.797000</td>\n",
       "    </tr>\n",
       "    <tr>\n",
       "      <th>75%</th>\n",
       "      <td>4.743250</td>\n",
       "      <td>37.000000</td>\n",
       "      <td>6.052381</td>\n",
       "      <td>1.099526</td>\n",
       "      <td>1725.000000</td>\n",
       "      <td>3.282261</td>\n",
       "      <td>37.710000</td>\n",
       "      <td>-118.010000</td>\n",
       "      <td>2.647250</td>\n",
       "    </tr>\n",
       "    <tr>\n",
       "      <th>max</th>\n",
       "      <td>15.000100</td>\n",
       "      <td>52.000000</td>\n",
       "      <td>141.909091</td>\n",
       "      <td>34.066667</td>\n",
       "      <td>35682.000000</td>\n",
       "      <td>1243.333333</td>\n",
       "      <td>41.950000</td>\n",
       "      <td>-114.310000</td>\n",
       "      <td>5.000010</td>\n",
       "    </tr>\n",
       "  </tbody>\n",
       "</table>\n",
       "</div>"
      ],
      "text/plain": [
       "             MedInc      HouseAge      AveRooms     AveBedrms    Population  \\\n",
       "count  20640.000000  20640.000000  20640.000000  20640.000000  20640.000000   \n",
       "mean       3.870671     28.639486      5.429000      1.096675   1425.476744   \n",
       "std        1.899822     12.585558      2.474173      0.473911   1132.462122   \n",
       "min        0.499900      1.000000      0.846154      0.333333      3.000000   \n",
       "25%        2.563400     18.000000      4.440716      1.006079    787.000000   \n",
       "50%        3.534800     29.000000      5.229129      1.048780   1166.000000   \n",
       "75%        4.743250     37.000000      6.052381      1.099526   1725.000000   \n",
       "max       15.000100     52.000000    141.909091     34.066667  35682.000000   \n",
       "\n",
       "           AveOccup      Latitude     Longitude  MedHouseValue  \n",
       "count  20640.000000  20640.000000  20640.000000   20640.000000  \n",
       "mean       3.070655     35.631861   -119.569704       2.068558  \n",
       "std       10.386050      2.135952      2.003532       1.153956  \n",
       "min        0.692308     32.540000   -124.350000       0.149990  \n",
       "25%        2.429741     33.930000   -121.800000       1.196000  \n",
       "50%        2.818116     34.260000   -118.490000       1.797000  \n",
       "75%        3.282261     37.710000   -118.010000       2.647250  \n",
       "max     1243.333333     41.950000   -114.310000       5.000010  "
      ]
     },
     "execution_count": 134,
     "metadata": {},
     "output_type": "execute_result"
    }
   ],
   "source": [
    "df.describe()"
   ]
  },
  {
   "cell_type": "markdown",
   "id": "8c81db66-3c8e-4218-8389-b42a75497bf2",
   "metadata": {},
   "source": [
    "#### Handling Missing Values"
   ]
  },
  {
   "cell_type": "code",
   "execution_count": 136,
   "id": "3f7120f4-0316-4358-89fa-a2d1795ffcf9",
   "metadata": {},
   "outputs": [
    {
     "data": {
      "text/plain": [
       "MedInc           0\n",
       "HouseAge         0\n",
       "AveRooms         0\n",
       "AveBedrms        0\n",
       "Population       0\n",
       "AveOccup         0\n",
       "Latitude         0\n",
       "Longitude        0\n",
       "MedHouseValue    0\n",
       "dtype: int64"
      ]
     },
     "execution_count": 136,
     "metadata": {},
     "output_type": "execute_result"
    }
   ],
   "source": [
    "df.isnull().sum()"
   ]
  },
  {
   "cell_type": "code",
   "execution_count": 137,
   "id": "7778ecfc-ed4a-4a27-a5fa-89a6ca546f4b",
   "metadata": {},
   "outputs": [
    {
     "data": {
      "text/plain": [
       "0"
      ]
     },
     "execution_count": 137,
     "metadata": {},
     "output_type": "execute_result"
    }
   ],
   "source": [
    "df.duplicated().sum()"
   ]
  },
  {
   "cell_type": "markdown",
   "id": "3569ab9e-3e55-4221-9ad8-dd3c29dc2efb",
   "metadata": {},
   "source": [
    "#### Outliers"
   ]
  },
  {
   "cell_type": "code",
   "execution_count": 139,
   "id": "7f34ac97-38d1-42f3-8c2f-ede0a243d0c6",
   "metadata": {},
   "outputs": [
    {
     "data": {
      "text/plain": [
       "Longitude        -0.297801\n",
       "HouseAge          0.060331\n",
       "Latitude          0.465953\n",
       "MedHouseValue     0.977763\n",
       "MedInc            1.646657\n",
       "Population        4.935858\n",
       "AveRooms         20.697869\n",
       "AveBedrms        31.316956\n",
       "AveOccup         97.639561\n",
       "dtype: float64"
      ]
     },
     "execution_count": 139,
     "metadata": {},
     "output_type": "execute_result"
    }
   ],
   "source": [
    "# Skewness value before outlier removal\n",
    "df.skew().sort_values(ascending=True)"
   ]
  },
  {
   "cell_type": "code",
   "execution_count": 140,
   "id": "d855d1fe-f5e7-4659-a380-8dbbac2913b0",
   "metadata": {},
   "outputs": [
    {
     "data": {
      "image/png": "[encoded data removed]",
      "text/plain": [
       "<Figure size 1200x800 with 1 Axes>"
      ]
     },
     "metadata": {},
     "output_type": "display_data"
    }
   ],
   "source": [
    "# boxplot before outlier removal\n",
    "plt.figure(figsize=(12, 8))\n",
    "sns.boxplot(df)\n",
    "plt.xticks(rotation=90)\n",
    "plt.title('Boxplot of  Features')\n",
    "plt.show()"
   ]
  },
  {
   "cell_type": "code",
   "execution_count": 141,
   "id": "45139463-2f60-4fa0-9ff4-c53098d8bbe5",
   "metadata": {},
   "outputs": [],
   "source": [
    "#IQR method for outlier removal\n",
    "def remove_outliers(df,columns):\n",
    "  data_filtered=df.copy()\n",
    "\n",
    "  for column in columns:\n",
    "     Q1 = df[column].quantile(0.25)\n",
    "     Q3 = df[column].quantile(0.75)\n",
    "     IQR = Q3 - Q1\n",
    "\n",
    "     lower_bound = Q1 - 1.5 * IQR\n",
    "     upper_bound = Q3 + 1.5* IQR\n",
    "\n",
    "     data_filtered = data_filtered[(data_filtered[column] >= lower_bound) & (data_filtered[column] <= upper_bound)]\n",
    "\n",
    "  return data_filtered"
   ]
  },
  {
   "cell_type": "code",
   "execution_count": 142,
   "id": "97b87804-0bba-459b-bf80-492218b49751",
   "metadata": {},
   "outputs": [],
   "source": [
    "new_data=remove_outliers(df,['MedInc','Population','AveRooms','AveBedrms','AveOccup'])"
   ]
  },
  {
   "cell_type": "code",
   "execution_count": 143,
   "id": "4e80dcc1-e249-4c5e-ae41-1b29d1d0f017",
   "metadata": {},
   "outputs": [
    {
     "data": {
      "text/plain": [
       "Longitude       -0.275190\n",
       "HouseAge         0.009569\n",
       "AveRooms         0.113327\n",
       "AveBedrms        0.242424\n",
       "AveOccup         0.334693\n",
       "Latitude         0.418345\n",
       "MedInc           0.545038\n",
       "Population       0.731394\n",
       "MedHouseValue    0.926549\n",
       "dtype: float64"
      ]
     },
     "execution_count": 143,
     "metadata": {},
     "output_type": "execute_result"
    }
   ],
   "source": [
    "# Skewness value after outlier removal\n",
    "new_data.skew().sort_values(ascending=True)"
   ]
  },
  {
   "cell_type": "code",
   "execution_count": 144,
   "id": "37a672ed-0157-42de-8d3c-a4b6ca0f44a9",
   "metadata": {},
   "outputs": [
    {
     "data": {
      "image/png": "[encoded data removed]",
      "text/plain": [
       "<Figure size 1200x800 with 1 Axes>"
      ]
     },
     "metadata": {},
     "output_type": "display_data"
    }
   ],
   "source": [
    "# boxplot after outlier removal\n",
    "plt.figure(figsize=(12, 8))\n",
    "sns.boxplot(new_data)\n",
    "plt.xticks(rotation=90)\n",
    "plt.title('Boxplot of  Features')\n",
    "plt.show()"
   ]
  },
  {
   "cell_type": "markdown",
   "id": "fd55aeed-bc6f-47af-8af0-70b145e4c8a6",
   "metadata": {},
   "source": [
    "#### Split data"
   ]
  },
  {
   "cell_type": "code",
   "execution_count": 171,
   "id": "37e0b7a3-eace-424f-808d-ad41e6c73e6b",
   "metadata": {},
   "outputs": [
    {
     "name": "stdout",
     "output_type": "stream",
     "text": [
      "(13473, 8) (3369, 8) (13473,) (3369,)\n"
     ]
    }
   ],
   "source": [
    "new_data_2 = new_data.copy()\n",
    "X = new_data_2.drop('MedHouseValue',axis=1)\n",
    "y = new_data_2['MedHouseValue']\n",
    "\n",
    "# Split the dataset into training and testing sets\n",
    "X_train, X_test, y_train, y_test = train_test_split(X, y, test_size=0.2, random_state=42)\n",
    "\n",
    "print(X_train.shape, X_test.shape, y_train.shape, y_test.shape)"
   ]
  },
  {
   "cell_type": "markdown",
   "id": "7f4705f5-e4ba-4020-9893-da2100f905ee",
   "metadata": {},
   "source": [
    "#### Feature Scaling"
   ]
  },
  {
   "cell_type": "code",
   "execution_count": 175,
   "id": "9039d9dd-3471-495f-97d8-a4246b053f5f",
   "metadata": {},
   "outputs": [],
   "source": [
    "scaler = StandardScaler()\n",
    "scaler.fit(X_train)\n",
    "X_train_scaled = scaler.transform(X_train)\n"
   ]
  },
  {
   "cell_type": "code",
   "execution_count": 183,
   "id": "81658593-9d5b-455e-8646-d83b2beeb80e",
   "metadata": {},
   "outputs": [],
   "source": [
    "\n",
    "y_train_df = pd.DataFrame(y_train) #converting to data frame from series\n",
    "scaler = StandardScaler()\n",
    "scaler.fit(y_train_df)\n",
    "y_train_scaled = scaler.transform(y_train_df)"
   ]
  },
  {
   "cell_type": "markdown",
   "id": "94fd00c3-c3c8-4475-95e0-f6bbd66a31d7",
   "metadata": {},
   "source": [
    "#### Importance of data preprocessing and feature scaling"
   ]
  },
  {
   "cell_type": "markdown",
   "id": "8b3b7437-7d4b-4095-9128-969229358741",
   "metadata": {},
   "source": [
    "* At first the data is loaded and converted to dataframe for easy analyse.\n",
    "* Then the data is explored for better understanding the data.\n",
    "* In this case after clear exploration found that there are no null values and duplicates to remove.\n",
    "* Next outlier detection and removal\n",
    "* Then the data is scaled: it ensures that all features in a dataset are on a similar scale, preventing features with larger magnitudes from dominating the learning process and allowing algorithms to consider all features equally, ultimately leading to better model performance and faster convergence during training. "
   ]
  },
  {
   "cell_type": "markdown",
   "id": "1c2a2c75-354f-4fec-bebf-85d06cc91857",
   "metadata": {},
   "source": [
    "### Regression Algorithm Implementation"
   ]
  },
  {
   "cell_type": "code",
   "execution_count": 203,
   "id": "12650663-8249-4795-844f-88f43f69dad1",
   "metadata": {},
   "outputs": [],
   "source": [
    "models = {\n",
    "    \"Linear Regression\": LinearRegression(),\n",
    "    \"DecisionTreeRegressor\": DecisionTreeRegressor(),\n",
    "    \"Random Forest Regressor\": RandomForestRegressor(random_state=42)\n",
    "}"
   ]
  },
  {
   "cell_type": "code",
   "execution_count": 205,
   "id": "0093e05d-0f16-4d18-b8fa-12393120ffeb",
   "metadata": {},
   "outputs": [],
   "source": [
    "model_results = {}\n",
    "\n",
    "for name, model in models.items():\n",
    "    model.fit(X_train_scaled, y_train_scaled)\n",
    "    predictions = model.predict(X_test)\n",
    "    mae = mean_absolute_error(y_test, predictions)\n",
    "    mse = mean_squared_error(y_test, predictions)\n",
    "    rmse = mean_squared_error(y_test, predictions, squared=False)\n",
    "    r2 = r2_score(y_test, predictions)\n",
    "    model_results[name] = {\"MAE\": mae, \"MSE\": mse, \"RMSE\": rmse, \"R2 Score\": r2}"
   ]
  },
  {
   "cell_type": "code",
   "execution_count": 207,
   "id": "8cecd885-164d-4e34-bab2-c1d488be9ece",
   "metadata": {},
   "outputs": [
    {
     "name": "stdout",
     "output_type": "stream",
     "text": [
      "\n",
      "Linear Regression Performance:\n",
      "MAE: 111.2112\n",
      "MSE: 12936.4941\n",
      "RMSE: 113.7387\n",
      "R2 Score: -11340.5856\n",
      "\n",
      "DecisionTreeRegressor Performance:\n",
      "MAE: 1.0998\n",
      "MSE: 2.0503\n",
      "RMSE: 1.4319\n",
      "R2 Score: -0.7975\n",
      "\n",
      "Random Forest Regressor Performance:\n",
      "MAE: 0.7785\n",
      "MSE: 1.0974\n",
      "RMSE: 1.0476\n",
      "R2 Score: 0.0379\n"
     ]
    }
   ],
   "source": [
    "# Display model performance\n",
    "for name, metrics in model_results.items():\n",
    "    print(f\"\\n{name} Performance:\")\n",
    "    for metric, value in metrics.items():\n",
    "        print(f\"{metric}: {value:.4f}\")"
   ]
  },
  {
   "cell_type": "markdown",
   "id": "d79aef2f-be7d-4bc5-b1b7-71a8bd88c6fc",
   "metadata": {},
   "source": [
    "* Here, The worst perfoming model is the linear regression due to the reasons:\n",
    "1. Not capturing non-linear relationships in the data\n",
    "2. Multicollinearity issue\n",
    "* Decision Tree Regressor (Slightly Better, but Still Bad):\n",
    "* Random Forest Regressor (Best Performance So Far)"
   ]
  },
  {
   "cell_type": "code",
   "execution_count": null,
   "id": "6d2bb18f-5941-43bb-9dd7-ec88239dcccc",
   "metadata": {},
   "outputs": [],
   "source": []
  }
 ],
 "metadata": {
  "kernelspec": {
   "display_name": "Python [conda env:base] *",
   "language": "python",
   "name": "conda-base-py"
  },
  "language_info": {
   "codemirror_mode": {
    "name": "ipython",
    "version": 3
   },
   "file_extension": ".py",
   "mimetype": "text/x-python",
   "name": "python",
   "nbconvert_exporter": "python",
   "pygments_lexer": "ipython3",
   "version": "3.12.7"
  }
 },
 "nbformat": 4,
 "nbformat_minor": 5
}
