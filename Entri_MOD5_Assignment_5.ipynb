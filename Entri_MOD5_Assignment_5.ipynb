{
 "cells": [
  {
   "cell_type": "markdown",
   "id": "68b4e061-be0e-4d33-a89d-eb4a95be8ba6",
   "metadata": {},
   "source": [
    "### Libraries"
   ]
  },
  {
   "cell_type": "code",
   "execution_count": 165,
   "id": "7264dd34-d1f1-47a5-a7d2-2b56279a8036",
   "metadata": {},
   "outputs": [],
   "source": [
    "from sklearn import datasets\n",
    "import pandas as pd\n",
    "import seaborn as sns \n",
    "import matplotlib.pyplot as plt\n",
    "from sklearn.preprocessing import StandardScaler\n",
    "from sklearn.cluster import KMeans\n",
    "from sklearn.metrics import silhouette_score\n",
    "import scipy.cluster.hierarchy as shc\n",
    "from sklearn.cluster import AgglomerativeClustering\n",
    "from sklearn.metrics import silhouette_score, davies_bouldin_score\n",
    "from sklearn.datasets import load_digits\n",
    "from sklearn.decomposition import PCA\n",
    "from sklearn.manifold import TSNE"
   ]
  },
  {
   "cell_type": "markdown",
   "id": "db3bfc34-6c9d-4295-868a-57f98eef6c21",
   "metadata": {},
   "source": [
    "### Load Data"
   ]
  },
  {
   "cell_type": "code",
   "execution_count": 121,
   "id": "d08f829a-cdee-4e18-ad80-75efba5babf8",
   "metadata": {},
   "outputs": [],
   "source": [
    "iris = datasets.load_iris()"
   ]
  },
  {
   "cell_type": "code",
   "execution_count": 122,
   "id": "acb5231f-a921-405b-a318-b7772ae3c30e",
   "metadata": {},
   "outputs": [],
   "source": [
    "iris_df = pd.DataFrame(iris.data, columns=iris.feature_names)"
   ]
  },
  {
   "cell_type": "markdown",
   "id": "0b6f0dfc-8cf7-4d1d-ab81-a3ce48a72a26",
   "metadata": {},
   "source": [
    "### DataExplorations"
   ]
  },
  {
   "cell_type": "code",
   "execution_count": 124,
   "id": "092b5b7d-b2b2-4f1d-9906-db129b22c381",
   "metadata": {},
   "outputs": [
    {
     "data": {
      "text/html": [
       "<div>\n",
       "<style scoped>\n",
       "    .dataframe tbody tr th:only-of-type {\n",
       "        vertical-align: middle;\n",
       "    }\n",
       "\n",
       "    .dataframe tbody tr th {\n",
       "        vertical-align: top;\n",
       "    }\n",
       "\n",
       "    .dataframe thead th {\n",
       "        text-align: right;\n",
       "    }\n",
       "</style>\n",
       "<table border=\"1\" class=\"dataframe\">\n",
       "  <thead>\n",
       "    <tr style=\"text-align: right;\">\n",
       "      <th></th>\n",
       "      <th>sepal length (cm)</th>\n",
       "      <th>sepal width (cm)</th>\n",
       "      <th>petal length (cm)</th>\n",
       "      <th>petal width (cm)</th>\n",
       "    </tr>\n",
       "  </thead>\n",
       "  <tbody>\n",
       "    <tr>\n",
       "      <th>0</th>\n",
       "      <td>5.1</td>\n",
       "      <td>3.5</td>\n",
       "      <td>1.4</td>\n",
       "      <td>0.2</td>\n",
       "    </tr>\n",
       "    <tr>\n",
       "      <th>1</th>\n",
       "      <td>4.9</td>\n",
       "      <td>3.0</td>\n",
       "      <td>1.4</td>\n",
       "      <td>0.2</td>\n",
       "    </tr>\n",
       "    <tr>\n",
       "      <th>2</th>\n",
       "      <td>4.7</td>\n",
       "      <td>3.2</td>\n",
       "      <td>1.3</td>\n",
       "      <td>0.2</td>\n",
       "    </tr>\n",
       "    <tr>\n",
       "      <th>3</th>\n",
       "      <td>4.6</td>\n",
       "      <td>3.1</td>\n",
       "      <td>1.5</td>\n",
       "      <td>0.2</td>\n",
       "    </tr>\n",
       "    <tr>\n",
       "      <th>4</th>\n",
       "      <td>5.0</td>\n",
       "      <td>3.6</td>\n",
       "      <td>1.4</td>\n",
       "      <td>0.2</td>\n",
       "    </tr>\n",
       "  </tbody>\n",
       "</table>\n",
       "</div>"
      ],
      "text/plain": [
       "   sepal length (cm)  sepal width (cm)  petal length (cm)  petal width (cm)\n",
       "0                5.1               3.5                1.4               0.2\n",
       "1                4.9               3.0                1.4               0.2\n",
       "2                4.7               3.2                1.3               0.2\n",
       "3                4.6               3.1                1.5               0.2\n",
       "4                5.0               3.6                1.4               0.2"
      ]
     },
     "execution_count": 124,
     "metadata": {},
     "output_type": "execute_result"
    }
   ],
   "source": [
    "iris_df.head()"
   ]
  },
  {
   "cell_type": "code",
   "execution_count": 125,
   "id": "6aa6fafd-2eb9-4776-b7d0-947680a68b03",
   "metadata": {},
   "outputs": [
    {
     "data": {
      "text/html": [
       "<div>\n",
       "<style scoped>\n",
       "    .dataframe tbody tr th:only-of-type {\n",
       "        vertical-align: middle;\n",
       "    }\n",
       "\n",
       "    .dataframe tbody tr th {\n",
       "        vertical-align: top;\n",
       "    }\n",
       "\n",
       "    .dataframe thead th {\n",
       "        text-align: right;\n",
       "    }\n",
       "</style>\n",
       "<table border=\"1\" class=\"dataframe\">\n",
       "  <thead>\n",
       "    <tr style=\"text-align: right;\">\n",
       "      <th></th>\n",
       "      <th>sepal length (cm)</th>\n",
       "      <th>sepal width (cm)</th>\n",
       "      <th>petal length (cm)</th>\n",
       "      <th>petal width (cm)</th>\n",
       "    </tr>\n",
       "  </thead>\n",
       "  <tbody>\n",
       "    <tr>\n",
       "      <th>count</th>\n",
       "      <td>150.000000</td>\n",
       "      <td>150.000000</td>\n",
       "      <td>150.000000</td>\n",
       "      <td>150.000000</td>\n",
       "    </tr>\n",
       "    <tr>\n",
       "      <th>mean</th>\n",
       "      <td>5.843333</td>\n",
       "      <td>3.057333</td>\n",
       "      <td>3.758000</td>\n",
       "      <td>1.199333</td>\n",
       "    </tr>\n",
       "    <tr>\n",
       "      <th>std</th>\n",
       "      <td>0.828066</td>\n",
       "      <td>0.435866</td>\n",
       "      <td>1.765298</td>\n",
       "      <td>0.762238</td>\n",
       "    </tr>\n",
       "    <tr>\n",
       "      <th>min</th>\n",
       "      <td>4.300000</td>\n",
       "      <td>2.000000</td>\n",
       "      <td>1.000000</td>\n",
       "      <td>0.100000</td>\n",
       "    </tr>\n",
       "    <tr>\n",
       "      <th>25%</th>\n",
       "      <td>5.100000</td>\n",
       "      <td>2.800000</td>\n",
       "      <td>1.600000</td>\n",
       "      <td>0.300000</td>\n",
       "    </tr>\n",
       "    <tr>\n",
       "      <th>50%</th>\n",
       "      <td>5.800000</td>\n",
       "      <td>3.000000</td>\n",
       "      <td>4.350000</td>\n",
       "      <td>1.300000</td>\n",
       "    </tr>\n",
       "    <tr>\n",
       "      <th>75%</th>\n",
       "      <td>6.400000</td>\n",
       "      <td>3.300000</td>\n",
       "      <td>5.100000</td>\n",
       "      <td>1.800000</td>\n",
       "    </tr>\n",
       "    <tr>\n",
       "      <th>max</th>\n",
       "      <td>7.900000</td>\n",
       "      <td>4.400000</td>\n",
       "      <td>6.900000</td>\n",
       "      <td>2.500000</td>\n",
       "    </tr>\n",
       "  </tbody>\n",
       "</table>\n",
       "</div>"
      ],
      "text/plain": [
       "       sepal length (cm)  sepal width (cm)  petal length (cm)  \\\n",
       "count         150.000000        150.000000         150.000000   \n",
       "mean            5.843333          3.057333           3.758000   \n",
       "std             0.828066          0.435866           1.765298   \n",
       "min             4.300000          2.000000           1.000000   \n",
       "25%             5.100000          2.800000           1.600000   \n",
       "50%             5.800000          3.000000           4.350000   \n",
       "75%             6.400000          3.300000           5.100000   \n",
       "max             7.900000          4.400000           6.900000   \n",
       "\n",
       "       petal width (cm)  \n",
       "count        150.000000  \n",
       "mean           1.199333  \n",
       "std            0.762238  \n",
       "min            0.100000  \n",
       "25%            0.300000  \n",
       "50%            1.300000  \n",
       "75%            1.800000  \n",
       "max            2.500000  "
      ]
     },
     "execution_count": 125,
     "metadata": {},
     "output_type": "execute_result"
    }
   ],
   "source": [
    "iris_df.describe()"
   ]
  },
  {
   "cell_type": "code",
   "execution_count": 126,
   "id": "4072baea-c1a7-43c5-a46c-8d7719f5dba3",
   "metadata": {},
   "outputs": [
    {
     "name": "stdout",
     "output_type": "stream",
     "text": [
      "<class 'pandas.core.frame.DataFrame'>\n",
      "RangeIndex: 150 entries, 0 to 149\n",
      "Data columns (total 4 columns):\n",
      " #   Column             Non-Null Count  Dtype  \n",
      "---  ------             --------------  -----  \n",
      " 0   sepal length (cm)  150 non-null    float64\n",
      " 1   sepal width (cm)   150 non-null    float64\n",
      " 2   petal length (cm)  150 non-null    float64\n",
      " 3   petal width (cm)   150 non-null    float64\n",
      "dtypes: float64(4)\n",
      "memory usage: 4.8 KB\n"
     ]
    }
   ],
   "source": [
    "iris_df.info()"
   ]
  },
  {
   "cell_type": "code",
   "execution_count": 127,
   "id": "d14967dc-214e-4208-9e7e-fc5149dedaf4",
   "metadata": {},
   "outputs": [
    {
     "data": {
      "text/plain": [
       "(150, 4)"
      ]
     },
     "execution_count": 127,
     "metadata": {},
     "output_type": "execute_result"
    }
   ],
   "source": [
    "iris_df.shape"
   ]
  },
  {
   "cell_type": "code",
   "execution_count": 128,
   "id": "21c34dc3-1699-4d49-ab7f-f2095ef56a79",
   "metadata": {},
   "outputs": [
    {
     "data": {
      "text/plain": [
       "sepal length (cm)    0\n",
       "sepal width (cm)     0\n",
       "petal length (cm)    0\n",
       "petal width (cm)     0\n",
       "dtype: int64"
      ]
     },
     "execution_count": 128,
     "metadata": {},
     "output_type": "execute_result"
    }
   ],
   "source": [
    "iris_df.isnull().sum()"
   ]
  },
  {
   "cell_type": "code",
   "execution_count": 129,
   "id": "4c86b776-ec1f-40e0-812e-fa31bff67899",
   "metadata": {},
   "outputs": [
    {
     "data": {
      "text/plain": [
       "1"
      ]
     },
     "execution_count": 129,
     "metadata": {},
     "output_type": "execute_result"
    }
   ],
   "source": [
    "iris_df.duplicated().sum()"
   ]
  },
  {
   "cell_type": "code",
   "execution_count": 130,
   "id": "6829a443-b3c8-48e7-971f-f48a55635bb3",
   "metadata": {},
   "outputs": [],
   "source": [
    "iris_df = iris_df.drop_duplicates()\n"
   ]
  },
  {
   "cell_type": "code",
   "execution_count": 131,
   "id": "1e125b2e-cecf-47e7-8cfd-4db75f0b8dcd",
   "metadata": {},
   "outputs": [
    {
     "data": {
      "text/plain": [
       "0"
      ]
     },
     "execution_count": 131,
     "metadata": {},
     "output_type": "execute_result"
    }
   ],
   "source": [
    "iris_df.duplicated().sum()"
   ]
  },
  {
   "cell_type": "code",
   "execution_count": 132,
   "id": "f4b1bf14-a535-40e5-9ed3-97c0a878d7ca",
   "metadata": {},
   "outputs": [
    {
     "data": {
      "image/png": "[encoded data removed]",
      "text/plain": [
       "<Figure size 640x480 with 1 Axes>"
      ]
     },
     "metadata": {},
     "output_type": "display_data"
    }
   ],
   "source": [
    "plt.scatter(iris_df['petal length (cm)'], iris_df['petal width (cm)'])\n",
    "plt.xlabel('Petal Length (cm)')\n",
    "plt.ylabel('Petal Width (cm)')\n",
    "plt.title('Before Clustering: Raw Data Distribution')\n",
    "plt.show()"
   ]
  },
  {
   "cell_type": "markdown",
   "id": "9b763074-b0a0-4f5c-8c3c-69fd6d61a43b",
   "metadata": {},
   "source": [
    "### Feature Scaling"
   ]
  },
  {
   "cell_type": "code",
   "execution_count": 134,
   "id": "8a584603-87c6-460d-98fe-01a80c5a1fad",
   "metadata": {},
   "outputs": [],
   "source": [
    "\n",
    "scaler = StandardScaler()\n",
    "scaled_features = scaler.fit_transform(iris_df)"
   ]
  },
  {
   "cell_type": "markdown",
   "id": "0afbb304-670d-4bf9-b1e0-0c95c47a6c3d",
   "metadata": {},
   "source": [
    "### Elbow Method"
   ]
  },
  {
   "cell_type": "code",
   "execution_count": 136,
   "id": "6550c1d6-e953-4fd4-9c50-49c8fd9d9daf",
   "metadata": {},
   "outputs": [
    {
     "name": "stderr",
     "output_type": "stream",
     "text": [
      "C:\\Users\\jayak\\anaconda3\\Lib\\site-packages\\sklearn\\cluster\\_kmeans.py:1429: UserWarning: KMeans is known to have a memory leak on Windows with MKL, when there are less chunks than available threads. You can avoid it by setting the environment variable OMP_NUM_THREADS=1.\n",
      "  warnings.warn(\n",
      "C:\\Users\\jayak\\anaconda3\\Lib\\site-packages\\sklearn\\cluster\\_kmeans.py:1429: UserWarning: KMeans is known to have a memory leak on Windows with MKL, when there are less chunks than available threads. You can avoid it by setting the environment variable OMP_NUM_THREADS=1.\n",
      "  warnings.warn(\n",
      "C:\\Users\\jayak\\anaconda3\\Lib\\site-packages\\sklearn\\cluster\\_kmeans.py:1429: UserWarning: KMeans is known to have a memory leak on Windows with MKL, when there are less chunks than available threads. You can avoid it by setting the environment variable OMP_NUM_THREADS=1.\n",
      "  warnings.warn(\n",
      "C:\\Users\\jayak\\anaconda3\\Lib\\site-packages\\sklearn\\cluster\\_kmeans.py:1429: UserWarning: KMeans is known to have a memory leak on Windows with MKL, when there are less chunks than available threads. You can avoid it by setting the environment variable OMP_NUM_THREADS=1.\n",
      "  warnings.warn(\n",
      "C:\\Users\\jayak\\anaconda3\\Lib\\site-packages\\sklearn\\cluster\\_kmeans.py:1429: UserWarning: KMeans is known to have a memory leak on Windows with MKL, when there are less chunks than available threads. You can avoid it by setting the environment variable OMP_NUM_THREADS=1.\n",
      "  warnings.warn(\n",
      "C:\\Users\\jayak\\anaconda3\\Lib\\site-packages\\sklearn\\cluster\\_kmeans.py:1429: UserWarning: KMeans is known to have a memory leak on Windows with MKL, when there are less chunks than available threads. You can avoid it by setting the environment variable OMP_NUM_THREADS=1.\n",
      "  warnings.warn(\n",
      "C:\\Users\\jayak\\anaconda3\\Lib\\site-packages\\sklearn\\cluster\\_kmeans.py:1429: UserWarning: KMeans is known to have a memory leak on Windows with MKL, when there are less chunks than available threads. You can avoid it by setting the environment variable OMP_NUM_THREADS=1.\n",
      "  warnings.warn(\n",
      "C:\\Users\\jayak\\anaconda3\\Lib\\site-packages\\sklearn\\cluster\\_kmeans.py:1429: UserWarning: KMeans is known to have a memory leak on Windows with MKL, when there are less chunks than available threads. You can avoid it by setting the environment variable OMP_NUM_THREADS=1.\n",
      "  warnings.warn(\n",
      "C:\\Users\\jayak\\anaconda3\\Lib\\site-packages\\sklearn\\cluster\\_kmeans.py:1429: UserWarning: KMeans is known to have a memory leak on Windows with MKL, when there are less chunks than available threads. You can avoid it by setting the environment variable OMP_NUM_THREADS=1.\n",
      "  warnings.warn(\n",
      "C:\\Users\\jayak\\anaconda3\\Lib\\site-packages\\sklearn\\cluster\\_kmeans.py:1429: UserWarning: KMeans is known to have a memory leak on Windows with MKL, when there are less chunks than available threads. You can avoid it by setting the environment variable OMP_NUM_THREADS=1.\n",
      "  warnings.warn(\n"
     ]
    }
   ],
   "source": [
    "# Elbow method to find the optimal number of clusters\n",
    "inertia_values = []\n",
    "k_values = range(1, 11)  # Testing K from 1 to 10\n",
    "\n",
    "for k in k_values:\n",
    "    kmeans = KMeans(n_clusters=k, n_init=10, random_state=42)\n",
    "    kmeans.fit(scaled_features)\n",
    "    inertia_values.append(kmeans.inertia_)"
   ]
  },
  {
   "cell_type": "code",
   "execution_count": 137,
   "id": "7bb4bc23-c511-40ad-85bb-ccc62127db63",
   "metadata": {},
   "outputs": [
    {
     "data": {
      "text/plain": [
       "range(1, 11)"
      ]
     },
     "execution_count": 137,
     "metadata": {},
     "output_type": "execute_result"
    }
   ],
   "source": [
    "k_values"
   ]
  },
  {
   "cell_type": "code",
   "execution_count": 138,
   "id": "053e884c-433d-4e9d-8ec9-a3a5469a1392",
   "metadata": {},
   "outputs": [
    {
     "data": {
      "image/png": "[encoded data removed]",
      "text/plain": [
       "<Figure size 800x500 with 1 Axes>"
      ]
     },
     "metadata": {},
     "output_type": "display_data"
    }
   ],
   "source": [
    "plt.figure(figsize=(8, 5))\n",
    "plt.plot(k_values, inertia_values, marker='o', linestyle='--', color='b')\n",
    "plt.xlabel('Number of Clusters (k)')\n",
    "plt.ylabel('Inertia (Within-cluster sum of squares)')\n",
    "plt.title('Elbow Method for Optimal k')\n",
    "plt.xticks(k_values)\n",
    "plt.grid(True)\n",
    "plt.show()"
   ]
  },
  {
   "cell_type": "markdown",
   "id": "5dd692f8-2f89-4623-8ea8-6ff114eac5ce",
   "metadata": {},
   "source": [
    "### K-Means Clustering"
   ]
  },
  {
   "cell_type": "code",
   "execution_count": 140,
   "id": "9cd51548-cedc-4654-8a34-4bee2b559154",
   "metadata": {},
   "outputs": [],
   "source": [
    "kmeans = KMeans(n_clusters=3,init='k-means++', n_init=10,max_iter=300)"
   ]
  },
  {
   "cell_type": "code",
   "execution_count": 141,
   "id": "76eaf56a-8942-4605-9506-77f378e75569",
   "metadata": {},
   "outputs": [
    {
     "name": "stderr",
     "output_type": "stream",
     "text": [
      "C:\\Users\\jayak\\anaconda3\\Lib\\site-packages\\sklearn\\cluster\\_kmeans.py:1429: UserWarning: KMeans is known to have a memory leak on Windows with MKL, when there are less chunks than available threads. You can avoid it by setting the environment variable OMP_NUM_THREADS=1.\n",
      "  warnings.warn(\n"
     ]
    },
    {
     "data": {
      "text/plain": [
       "array([0, 0, 0, 0, 0, 0, 0, 0, 0, 0, 0, 0, 0, 0, 0, 0, 0, 0, 0, 0, 0, 0,\n",
       "       0, 0, 0, 0, 0, 0, 0, 0, 0, 0, 0, 0, 0, 0, 0, 0, 0, 0, 0, 0, 0, 0,\n",
       "       0, 0, 0, 0, 0, 0, 1, 1, 1, 2, 2, 2, 1, 2, 2, 2, 2, 2, 2, 2, 2, 1,\n",
       "       2, 2, 2, 2, 1, 2, 2, 2, 2, 1, 1, 1, 2, 2, 2, 2, 2, 2, 2, 1, 1, 2,\n",
       "       2, 2, 2, 2, 2, 2, 2, 2, 2, 2, 2, 2, 1, 2, 1, 1, 1, 1, 2, 1, 1, 1,\n",
       "       1, 1, 1, 2, 2, 1, 1, 1, 1, 2, 1, 2, 1, 2, 1, 1, 2, 1, 1, 1, 1, 1,\n",
       "       1, 2, 2, 1, 1, 1, 2, 1, 1, 1, 1, 1, 1, 2, 1, 1, 2])"
      ]
     },
     "execution_count": 141,
     "metadata": {},
     "output_type": "execute_result"
    }
   ],
   "source": [
    "kmeans.fit_predict(scaled_features)"
   ]
  },
  {
   "cell_type": "code",
   "execution_count": 142,
   "id": "bffa1ffd-2a3f-49f6-8591-10e6cbb191ab",
   "metadata": {},
   "outputs": [],
   "source": [
    "iris_df[\"Cluster\"]=kmeans.labels_"
   ]
  },
  {
   "cell_type": "code",
   "execution_count": 143,
   "id": "9889440e-4a4c-4b14-90d9-24f57d28b23a",
   "metadata": {},
   "outputs": [
    {
     "data": {
      "text/html": [
       "<div>\n",
       "<style scoped>\n",
       "    .dataframe tbody tr th:only-of-type {\n",
       "        vertical-align: middle;\n",
       "    }\n",
       "\n",
       "    .dataframe tbody tr th {\n",
       "        vertical-align: top;\n",
       "    }\n",
       "\n",
       "    .dataframe thead th {\n",
       "        text-align: right;\n",
       "    }\n",
       "</style>\n",
       "<table border=\"1\" class=\"dataframe\">\n",
       "  <thead>\n",
       "    <tr style=\"text-align: right;\">\n",
       "      <th></th>\n",
       "      <th>sepal length (cm)</th>\n",
       "      <th>sepal width (cm)</th>\n",
       "      <th>petal length (cm)</th>\n",
       "      <th>petal width (cm)</th>\n",
       "      <th>Cluster</th>\n",
       "    </tr>\n",
       "  </thead>\n",
       "  <tbody>\n",
       "    <tr>\n",
       "      <th>0</th>\n",
       "      <td>5.1</td>\n",
       "      <td>3.5</td>\n",
       "      <td>1.4</td>\n",
       "      <td>0.2</td>\n",
       "      <td>0</td>\n",
       "    </tr>\n",
       "    <tr>\n",
       "      <th>1</th>\n",
       "      <td>4.9</td>\n",
       "      <td>3.0</td>\n",
       "      <td>1.4</td>\n",
       "      <td>0.2</td>\n",
       "      <td>0</td>\n",
       "    </tr>\n",
       "    <tr>\n",
       "      <th>2</th>\n",
       "      <td>4.7</td>\n",
       "      <td>3.2</td>\n",
       "      <td>1.3</td>\n",
       "      <td>0.2</td>\n",
       "      <td>0</td>\n",
       "    </tr>\n",
       "    <tr>\n",
       "      <th>3</th>\n",
       "      <td>4.6</td>\n",
       "      <td>3.1</td>\n",
       "      <td>1.5</td>\n",
       "      <td>0.2</td>\n",
       "      <td>0</td>\n",
       "    </tr>\n",
       "    <tr>\n",
       "      <th>4</th>\n",
       "      <td>5.0</td>\n",
       "      <td>3.6</td>\n",
       "      <td>1.4</td>\n",
       "      <td>0.2</td>\n",
       "      <td>0</td>\n",
       "    </tr>\n",
       "    <tr>\n",
       "      <th>...</th>\n",
       "      <td>...</td>\n",
       "      <td>...</td>\n",
       "      <td>...</td>\n",
       "      <td>...</td>\n",
       "      <td>...</td>\n",
       "    </tr>\n",
       "    <tr>\n",
       "      <th>145</th>\n",
       "      <td>6.7</td>\n",
       "      <td>3.0</td>\n",
       "      <td>5.2</td>\n",
       "      <td>2.3</td>\n",
       "      <td>1</td>\n",
       "    </tr>\n",
       "    <tr>\n",
       "      <th>146</th>\n",
       "      <td>6.3</td>\n",
       "      <td>2.5</td>\n",
       "      <td>5.0</td>\n",
       "      <td>1.9</td>\n",
       "      <td>2</td>\n",
       "    </tr>\n",
       "    <tr>\n",
       "      <th>147</th>\n",
       "      <td>6.5</td>\n",
       "      <td>3.0</td>\n",
       "      <td>5.2</td>\n",
       "      <td>2.0</td>\n",
       "      <td>1</td>\n",
       "    </tr>\n",
       "    <tr>\n",
       "      <th>148</th>\n",
       "      <td>6.2</td>\n",
       "      <td>3.4</td>\n",
       "      <td>5.4</td>\n",
       "      <td>2.3</td>\n",
       "      <td>1</td>\n",
       "    </tr>\n",
       "    <tr>\n",
       "      <th>149</th>\n",
       "      <td>5.9</td>\n",
       "      <td>3.0</td>\n",
       "      <td>5.1</td>\n",
       "      <td>1.8</td>\n",
       "      <td>2</td>\n",
       "    </tr>\n",
       "  </tbody>\n",
       "</table>\n",
       "<p>149 rows × 5 columns</p>\n",
       "</div>"
      ],
      "text/plain": [
       "     sepal length (cm)  sepal width (cm)  petal length (cm)  petal width (cm)  \\\n",
       "0                  5.1               3.5                1.4               0.2   \n",
       "1                  4.9               3.0                1.4               0.2   \n",
       "2                  4.7               3.2                1.3               0.2   \n",
       "3                  4.6               3.1                1.5               0.2   \n",
       "4                  5.0               3.6                1.4               0.2   \n",
       "..                 ...               ...                ...               ...   \n",
       "145                6.7               3.0                5.2               2.3   \n",
       "146                6.3               2.5                5.0               1.9   \n",
       "147                6.5               3.0                5.2               2.0   \n",
       "148                6.2               3.4                5.4               2.3   \n",
       "149                5.9               3.0                5.1               1.8   \n",
       "\n",
       "     Cluster  \n",
       "0          0  \n",
       "1          0  \n",
       "2          0  \n",
       "3          0  \n",
       "4          0  \n",
       "..       ...  \n",
       "145        1  \n",
       "146        2  \n",
       "147        1  \n",
       "148        1  \n",
       "149        2  \n",
       "\n",
       "[149 rows x 5 columns]"
      ]
     },
     "execution_count": 143,
     "metadata": {},
     "output_type": "execute_result"
    }
   ],
   "source": [
    "iris_df"
   ]
  },
  {
   "cell_type": "code",
   "execution_count": 144,
   "id": "0f1eb6bf-3ab7-460d-a464-af1f643ed350",
   "metadata": {},
   "outputs": [
    {
     "data": {
      "text/plain": [
       "<Axes: xlabel='petal length (cm)', ylabel='petal width (cm)'>"
      ]
     },
     "execution_count": 144,
     "metadata": {},
     "output_type": "execute_result"
    },
    {
     "data": {
      "image/png": "[encoded data removed]",
      "text/plain": [
       "<Figure size 640x480 with 1 Axes>"
      ]
     },
     "metadata": {},
     "output_type": "display_data"
    }
   ],
   "source": [
    "sns.scatterplot(data=iris_df,x=\"petal length (cm)\",y=\"petal width (cm)\",hue=\"Cluster\")"
   ]
  },
  {
   "cell_type": "code",
   "execution_count": 145,
   "id": "a5b8b75d-79ff-449c-9697-aed64f677593",
   "metadata": {},
   "outputs": [
    {
     "name": "stdout",
     "output_type": "stream",
     "text": [
      "0.46068122144785184\n"
     ]
    }
   ],
   "source": [
    "\n",
    "labels = kmeans.labels_\n",
    "silhouette_avg = silhouette_score(scaled_features, labels)\n",
    "\n",
    "print(silhouette_avg)"
   ]
  },
  {
   "cell_type": "markdown",
   "id": "ad549793-f686-482c-8a64-034d6410acc4",
   "metadata": {},
   "source": [
    "Moderate clustering . Need to improve"
   ]
  },
  {
   "cell_type": "markdown",
   "id": "d16cbf4b-330b-4376-a078-43c4765c9072",
   "metadata": {},
   "source": [
    "### Agglomerative Clustering"
   ]
  },
  {
   "cell_type": "code",
   "execution_count": 148,
   "id": "e06ee79e-2aae-45c3-99ef-8e6931f2a836",
   "metadata": {},
   "outputs": [],
   "source": [
    "X=scaled_features.copy()\n"
   ]
  },
  {
   "cell_type": "code",
   "execution_count": 149,
   "id": "f96c4cc1-b210-4aff-a884-0672cfaae974",
   "metadata": {},
   "outputs": [
    {
     "data": {
      "text/plain": [
       "array([[-0.8980334 ,  1.01240113, -1.33325507, -1.30862368],\n",
       "       [-1.13956224, -0.1373532 , -1.33325507, -1.30862368],\n",
       "       [-1.38109108,  0.32254853, -1.39001364, -1.30862368],\n",
       "       [-1.5018555 ,  0.09259766, -1.2764965 , -1.30862368],\n",
       "       [-1.01879782,  1.242352  , -1.33325507, -1.30862368],\n",
       "       [-0.53574014,  1.9322046 , -1.16297935, -1.04548613],\n",
       "       [-1.5018555 ,  0.78245027, -1.33325507, -1.17705491],\n",
       "       [-1.01879782,  0.78245027, -1.2764965 , -1.30862368],\n",
       "       [-1.74338434, -0.36730407, -1.33325507, -1.30862368],\n",
       "       [-1.13956224,  0.09259766, -1.2764965 , -1.44019246],\n",
       "       [-0.53574014,  1.47230287, -1.2764965 , -1.30862368],\n",
       "       [-1.26032666,  0.78245027, -1.21973792, -1.30862368],\n",
       "       [-1.26032666, -0.1373532 , -1.33325507, -1.44019246],\n",
       "       [-1.86414876, -0.1373532 , -1.50353079, -1.44019246],\n",
       "       [-0.05268246,  2.16215547, -1.44677222, -1.30862368],\n",
       "       [-0.17344688,  3.08195894, -1.2764965 , -1.04548613],\n",
       "       [-0.53574014,  1.9322046 , -1.39001364, -1.04548613],\n",
       "       [-0.8980334 ,  1.01240113, -1.33325507, -1.17705491],\n",
       "       [-0.17344688,  1.70225374, -1.16297935, -1.17705491],\n",
       "       [-0.8980334 ,  1.70225374, -1.2764965 , -1.17705491],\n",
       "       [-0.53574014,  0.78245027, -1.16297935, -1.30862368],\n",
       "       [-0.8980334 ,  1.47230287, -1.2764965 , -1.04548613],\n",
       "       [-1.5018555 ,  1.242352  , -1.56028936, -1.30862368],\n",
       "       [-0.8980334 ,  0.5524994 , -1.16297935, -0.91391735],\n",
       "       [-1.26032666,  0.78245027, -1.0494622 , -1.30862368],\n",
       "       [-1.01879782, -0.1373532 , -1.21973792, -1.30862368],\n",
       "       [-1.01879782,  0.78245027, -1.21973792, -1.04548613],\n",
       "       [-0.77726898,  1.01240113, -1.2764965 , -1.30862368],\n",
       "       [-0.77726898,  0.78245027, -1.33325507, -1.30862368],\n",
       "       [-1.38109108,  0.32254853, -1.21973792, -1.30862368],\n",
       "       [-1.26032666,  0.09259766, -1.21973792, -1.30862368],\n",
       "       [-0.53574014,  0.78245027, -1.2764965 , -1.04548613],\n",
       "       [-0.77726898,  2.39210634, -1.2764965 , -1.44019246],\n",
       "       [-0.41497572,  2.62205721, -1.33325507, -1.30862368],\n",
       "       [-1.13956224,  0.09259766, -1.2764965 , -1.30862368],\n",
       "       [-1.01879782,  0.32254853, -1.44677222, -1.30862368],\n",
       "       [-0.41497572,  1.01240113, -1.39001364, -1.30862368],\n",
       "       [-1.13956224,  1.242352  , -1.33325507, -1.44019246],\n",
       "       [-1.74338434, -0.1373532 , -1.39001364, -1.30862368],\n",
       "       [-0.8980334 ,  0.78245027, -1.2764965 , -1.30862368],\n",
       "       [-1.01879782,  1.01240113, -1.39001364, -1.17705491],\n",
       "       [-1.62261992, -1.74700927, -1.39001364, -1.17705491],\n",
       "       [-1.74338434,  0.32254853, -1.39001364, -1.30862368],\n",
       "       [-1.01879782,  1.01240113, -1.21973792, -0.78234857],\n",
       "       [-0.8980334 ,  1.70225374, -1.0494622 , -1.04548613],\n",
       "       [-1.26032666, -0.1373532 , -1.33325507, -1.17705491],\n",
       "       [-0.8980334 ,  1.70225374, -1.21973792, -1.30862368],\n",
       "       [-1.5018555 ,  0.32254853, -1.33325507, -1.30862368],\n",
       "       [-0.65650456,  1.47230287, -1.2764965 , -1.30862368],\n",
       "       [-1.01879782,  0.5524994 , -1.33325507, -1.30862368],\n",
       "       [ 1.39649057,  0.32254853,  0.53977784,  0.27020165],\n",
       "       [ 0.67190405,  0.32254853,  0.42626069,  0.40177043],\n",
       "       [ 1.27572615,  0.09259766,  0.65329498,  0.40177043],\n",
       "       [-0.41497572, -1.74700927,  0.14246783,  0.13863287],\n",
       "       [ 0.79266847, -0.59725494,  0.48301927,  0.40177043],\n",
       "       [-0.17344688, -0.59725494,  0.42626069,  0.13863287],\n",
       "       [ 0.55113963,  0.5524994 ,  0.53977784,  0.53333921],\n",
       "       [-1.13956224, -1.51705841, -0.25484218, -0.25607346],\n",
       "       [ 0.91343289, -0.36730407,  0.48301927,  0.13863287],\n",
       "       [-0.77726898, -0.8272058 ,  0.08570925,  0.27020165],\n",
       "       [-1.01879782, -2.43686188, -0.14132504, -0.25607346],\n",
       "       [ 0.06808195, -0.1373532 ,  0.25598497,  0.40177043],\n",
       "       [ 0.18884637, -1.97696014,  0.14246783, -0.25607346],\n",
       "       [ 0.30961079, -0.36730407,  0.53977784,  0.27020165],\n",
       "       [-0.2942113 , -0.36730407, -0.08456646,  0.13863287],\n",
       "       [ 1.03419731,  0.09259766,  0.36950212,  0.27020165],\n",
       "       [-0.2942113 , -0.1373532 ,  0.42626069,  0.40177043],\n",
       "       [-0.05268246, -0.8272058 ,  0.1992264 , -0.25607346],\n",
       "       [ 0.43037521, -1.97696014,  0.42626069,  0.40177043],\n",
       "       [-0.2942113 , -1.28710754,  0.08570925, -0.12450468],\n",
       "       [ 0.06808195,  0.32254853,  0.59653641,  0.79647676],\n",
       "       [ 0.30961079, -0.59725494,  0.14246783,  0.13863287],\n",
       "       [ 0.55113963, -1.28710754,  0.65329498,  0.40177043],\n",
       "       [ 0.30961079, -0.59725494,  0.53977784,  0.0070641 ],\n",
       "       [ 0.67190405, -0.36730407,  0.31274355,  0.13863287],\n",
       "       [ 0.91343289, -0.1373532 ,  0.36950212,  0.27020165],\n",
       "       [ 1.15496173, -0.59725494,  0.59653641,  0.27020165],\n",
       "       [ 1.03419731, -0.1373532 ,  0.71005356,  0.66490799],\n",
       "       [ 0.18884637, -0.36730407,  0.42626069,  0.40177043],\n",
       "       [-0.17344688, -1.05715667, -0.14132504, -0.25607346],\n",
       "       [-0.41497572, -1.51705841,  0.02895068, -0.12450468],\n",
       "       [-0.41497572, -1.51705841, -0.02780789, -0.25607346],\n",
       "       [-0.05268246, -0.8272058 ,  0.08570925,  0.0070641 ],\n",
       "       [ 0.18884637, -0.8272058 ,  0.76681213,  0.53333921],\n",
       "       [-0.53574014, -0.1373532 ,  0.42626069,  0.40177043],\n",
       "       [ 0.18884637,  0.78245027,  0.42626069,  0.53333921],\n",
       "       [ 1.03419731,  0.09259766,  0.53977784,  0.40177043],\n",
       "       [ 0.55113963, -1.74700927,  0.36950212,  0.13863287],\n",
       "       [-0.2942113 , -0.1373532 ,  0.1992264 ,  0.13863287],\n",
       "       [-0.41497572, -1.28710754,  0.14246783,  0.13863287],\n",
       "       [-0.41497572, -1.05715667,  0.36950212,  0.0070641 ],\n",
       "       [ 0.30961079, -0.1373532 ,  0.48301927,  0.27020165],\n",
       "       [-0.05268246, -1.05715667,  0.14246783,  0.0070641 ],\n",
       "       [-1.01879782, -1.74700927, -0.25484218, -0.25607346],\n",
       "       [-0.2942113 , -0.8272058 ,  0.25598497,  0.13863287],\n",
       "       [-0.17344688, -0.1373532 ,  0.25598497,  0.0070641 ],\n",
       "       [-0.17344688, -0.36730407,  0.25598497,  0.13863287],\n",
       "       [ 0.43037521, -0.36730407,  0.31274355,  0.13863287],\n",
       "       [-0.8980334 , -1.28710754, -0.4251179 , -0.12450468],\n",
       "       [-0.17344688, -0.59725494,  0.1992264 ,  0.13863287],\n",
       "       [ 0.55113963,  0.5524994 ,  1.27763929,  1.71745821],\n",
       "       [-0.05268246, -0.8272058 ,  0.76681213,  0.92804554],\n",
       "       [ 1.51725499, -0.1373532 ,  1.22088071,  1.1911831 ],\n",
       "       [ 0.55113963, -0.36730407,  1.05060499,  0.79647676],\n",
       "       [ 0.79266847, -0.1373532 ,  1.16412214,  1.32275187],\n",
       "       [ 2.12107708, -0.1373532 ,  1.61819072,  1.1911831 ],\n",
       "       [-1.13956224, -1.28710754,  0.42626069,  0.66490799],\n",
       "       [ 1.75878383, -0.36730407,  1.44791501,  0.79647676],\n",
       "       [ 1.03419731, -1.28710754,  1.16412214,  0.79647676],\n",
       "       [ 1.63801941,  1.242352  ,  1.33439786,  1.71745821],\n",
       "       [ 0.79266847,  0.32254853,  0.76681213,  1.05961432],\n",
       "       [ 0.67190405, -0.8272058 ,  0.88032928,  0.92804554],\n",
       "       [ 1.15496173, -0.1373532 ,  0.99384642,  1.1911831 ],\n",
       "       [-0.17344688, -1.28710754,  0.71005356,  1.05961432],\n",
       "       [-0.05268246, -0.59725494,  0.76681213,  1.58588943],\n",
       "       [ 0.67190405,  0.32254853,  0.88032928,  1.45432065],\n",
       "       [ 0.79266847, -0.1373532 ,  0.99384642,  0.79647676],\n",
       "       [ 2.2418415 ,  1.70225374,  1.6749493 ,  1.32275187],\n",
       "       [ 2.2418415 , -1.05715667,  1.78846644,  1.45432065],\n",
       "       [ 0.18884637, -1.97696014,  0.71005356,  0.40177043],\n",
       "       [ 1.27572615,  0.32254853,  1.10736357,  1.45432065],\n",
       "       [-0.2942113 , -0.59725494,  0.65329498,  1.05961432],\n",
       "       [ 2.2418415 , -0.59725494,  1.6749493 ,  1.05961432],\n",
       "       [ 0.55113963, -0.8272058 ,  0.65329498,  0.79647676],\n",
       "       [ 1.03419731,  0.5524994 ,  1.10736357,  1.1911831 ],\n",
       "       [ 1.63801941,  0.32254853,  1.27763929,  0.79647676],\n",
       "       [ 0.43037521, -0.59725494,  0.59653641,  0.79647676],\n",
       "       [ 0.30961079, -0.1373532 ,  0.65329498,  0.79647676],\n",
       "       [ 0.67190405, -0.59725494,  1.05060499,  1.1911831 ],\n",
       "       [ 1.63801941, -0.1373532 ,  1.16412214,  0.53333921],\n",
       "       [ 1.87954825, -0.59725494,  1.33439786,  0.92804554],\n",
       "       [ 2.48337034,  1.70225374,  1.50467358,  1.05961432],\n",
       "       [ 0.67190405, -0.59725494,  1.05060499,  1.32275187],\n",
       "       [ 0.55113963, -0.59725494,  0.76681213,  0.40177043],\n",
       "       [ 0.30961079, -1.05715667,  1.05060499,  0.27020165],\n",
       "       [ 2.2418415 , -0.1373532 ,  1.33439786,  1.45432065],\n",
       "       [ 0.55113963,  0.78245027,  1.05060499,  1.58588943],\n",
       "       [ 0.67190405,  0.09259766,  0.99384642,  0.79647676],\n",
       "       [ 0.18884637, -0.1373532 ,  0.59653641,  0.79647676],\n",
       "       [ 1.27572615,  0.09259766,  0.93708785,  1.1911831 ],\n",
       "       [ 1.03419731,  0.09259766,  1.05060499,  1.58588943],\n",
       "       [ 1.27572615,  0.09259766,  0.76681213,  1.45432065],\n",
       "       [ 1.15496173,  0.32254853,  1.22088071,  1.45432065],\n",
       "       [ 1.03419731,  0.5524994 ,  1.10736357,  1.71745821],\n",
       "       [ 1.03419731, -0.1373532 ,  0.8235707 ,  1.45432065],\n",
       "       [ 0.55113963, -1.28710754,  0.71005356,  0.92804554],\n",
       "       [ 0.79266847, -0.1373532 ,  0.8235707 ,  1.05961432],\n",
       "       [ 0.43037521,  0.78245027,  0.93708785,  1.45432065],\n",
       "       [ 0.06808195, -0.1373532 ,  0.76681213,  0.79647676]])"
      ]
     },
     "execution_count": 149,
     "metadata": {},
     "output_type": "execute_result"
    }
   ],
   "source": [
    "X"
   ]
  },
  {
   "cell_type": "code",
   "execution_count": 150,
   "id": "4ad13de9-7979-4f5e-80de-41a7a54f7faa",
   "metadata": {},
   "outputs": [
    {
     "data": {
      "image/png": "[encoded data removed]",
      "text/plain": [
       "<Figure size 1000x800 with 1 Axes>"
      ]
     },
     "metadata": {},
     "output_type": "display_data"
    }
   ],
   "source": [
    "# Plotting a Dendrogram\n",
    "import matplotlib.pyplot as plt\n",
    "plt.figure(figsize=(10, 8))\n",
    "plt.title(\"Dendrograms\")\n",
    "dend = shc.dendrogram(shc.linkage (X, method='ward'))"
   ]
  },
  {
   "cell_type": "code",
   "execution_count": 151,
   "id": "d7b1256b-8716-4fbb-964a-f2b79aff5902",
   "metadata": {},
   "outputs": [
    {
     "data": {
      "text/plain": [
       "array([1, 1, 1, 1, 1, 1, 1, 1, 1, 1, 1, 1, 1, 1, 1, 1, 1, 1, 1, 1, 1, 1,\n",
       "       1, 1, 1, 1, 1, 1, 1, 1, 1, 1, 1, 1, 1, 1, 1, 1, 1, 1, 1, 0, 1, 1,\n",
       "       1, 1, 1, 1, 1, 1, 0, 0, 0, 0, 0, 0, 0, 0, 0, 0, 0, 0, 0, 0, 0, 0,\n",
       "       0, 0, 0, 0, 0, 0, 0, 0, 0, 0, 0, 0, 0, 0, 0, 0, 0, 0, 0, 0, 0, 0,\n",
       "       0, 0, 0, 0, 0, 0, 0, 0, 0, 0, 0, 0, 0, 0, 0, 0, 0, 0, 0, 0, 0, 0,\n",
       "       0, 0, 0, 0, 0, 0, 0, 0, 0, 0, 0, 0, 0, 0, 0, 0, 0, 0, 0, 0, 0, 0,\n",
       "       0, 0, 0, 0, 0, 0, 0, 0, 0, 0, 0, 0, 0, 0, 0, 0, 0], dtype=int64)"
      ]
     },
     "execution_count": 151,
     "metadata": {},
     "output_type": "execute_result"
    }
   ],
   "source": [
    "clusters = AgglomerativeClustering()\n",
    "clusters.fit_predict(X)"
   ]
  },
  {
   "cell_type": "code",
   "execution_count": 155,
   "id": "99764591-efab-4c00-acf9-8fa121daf33f",
   "metadata": {},
   "outputs": [],
   "source": [
    "cluster_labels = clusters.fit_predict(X)\n"
   ]
  },
  {
   "cell_type": "code",
   "execution_count": 161,
   "id": "43dd62d7-7262-4796-a8b6-2ae8e42652e5",
   "metadata": {},
   "outputs": [
    {
     "name": "stdout",
     "output_type": "stream",
     "text": [
      "Silhouette Score: 0.58\n"
     ]
    }
   ],
   "source": [
    "# Evaluate the clustering performance\n",
    "# 1. Silhouette Score\n",
    "sil_score = silhouette_score(X, cluster_labels)\n",
    "print(f\"Silhouette Score: {sil_score:.2f}\")"
   ]
  },
  {
   "cell_type": "code",
   "execution_count": 163,
   "id": "4617be13-657a-446c-9cab-4015d47bf530",
   "metadata": {},
   "outputs": [
    {
     "name": "stdout",
     "output_type": "stream",
     "text": [
      "Davies-Bouldin Score: 0.59\n"
     ]
    }
   ],
   "source": [
    "db_score = davies_bouldin_score(X, cluster_labels)\n",
    "print(f\"Davies-Bouldin Score: {db_score:.2f}\")"
   ]
  },
  {
   "cell_type": "markdown",
   "id": "7c81accf-d128-4fa6-8b92-13348bd84cb8",
   "metadata": {},
   "source": [
    "### Dimensionality Reduction"
   ]
  },
  {
   "cell_type": "code",
   "execution_count": 168,
   "id": "4c43c978-9865-45c4-93ac-d88fc615fd70",
   "metadata": {},
   "outputs": [
    {
     "data": {
      "text/plain": [
       "array([[-0.8980334 ,  1.01240113, -1.33325507, -1.30862368],\n",
       "       [-1.13956224, -0.1373532 , -1.33325507, -1.30862368],\n",
       "       [-1.38109108,  0.32254853, -1.39001364, -1.30862368],\n",
       "       [-1.5018555 ,  0.09259766, -1.2764965 , -1.30862368],\n",
       "       [-1.01879782,  1.242352  , -1.33325507, -1.30862368],\n",
       "       [-0.53574014,  1.9322046 , -1.16297935, -1.04548613],\n",
       "       [-1.5018555 ,  0.78245027, -1.33325507, -1.17705491],\n",
       "       [-1.01879782,  0.78245027, -1.2764965 , -1.30862368],\n",
       "       [-1.74338434, -0.36730407, -1.33325507, -1.30862368],\n",
       "       [-1.13956224,  0.09259766, -1.2764965 , -1.44019246],\n",
       "       [-0.53574014,  1.47230287, -1.2764965 , -1.30862368],\n",
       "       [-1.26032666,  0.78245027, -1.21973792, -1.30862368],\n",
       "       [-1.26032666, -0.1373532 , -1.33325507, -1.44019246],\n",
       "       [-1.86414876, -0.1373532 , -1.50353079, -1.44019246],\n",
       "       [-0.05268246,  2.16215547, -1.44677222, -1.30862368],\n",
       "       [-0.17344688,  3.08195894, -1.2764965 , -1.04548613],\n",
       "       [-0.53574014,  1.9322046 , -1.39001364, -1.04548613],\n",
       "       [-0.8980334 ,  1.01240113, -1.33325507, -1.17705491],\n",
       "       [-0.17344688,  1.70225374, -1.16297935, -1.17705491],\n",
       "       [-0.8980334 ,  1.70225374, -1.2764965 , -1.17705491],\n",
       "       [-0.53574014,  0.78245027, -1.16297935, -1.30862368],\n",
       "       [-0.8980334 ,  1.47230287, -1.2764965 , -1.04548613],\n",
       "       [-1.5018555 ,  1.242352  , -1.56028936, -1.30862368],\n",
       "       [-0.8980334 ,  0.5524994 , -1.16297935, -0.91391735],\n",
       "       [-1.26032666,  0.78245027, -1.0494622 , -1.30862368],\n",
       "       [-1.01879782, -0.1373532 , -1.21973792, -1.30862368],\n",
       "       [-1.01879782,  0.78245027, -1.21973792, -1.04548613],\n",
       "       [-0.77726898,  1.01240113, -1.2764965 , -1.30862368],\n",
       "       [-0.77726898,  0.78245027, -1.33325507, -1.30862368],\n",
       "       [-1.38109108,  0.32254853, -1.21973792, -1.30862368],\n",
       "       [-1.26032666,  0.09259766, -1.21973792, -1.30862368],\n",
       "       [-0.53574014,  0.78245027, -1.2764965 , -1.04548613],\n",
       "       [-0.77726898,  2.39210634, -1.2764965 , -1.44019246],\n",
       "       [-0.41497572,  2.62205721, -1.33325507, -1.30862368],\n",
       "       [-1.13956224,  0.09259766, -1.2764965 , -1.30862368],\n",
       "       [-1.01879782,  0.32254853, -1.44677222, -1.30862368],\n",
       "       [-0.41497572,  1.01240113, -1.39001364, -1.30862368],\n",
       "       [-1.13956224,  1.242352  , -1.33325507, -1.44019246],\n",
       "       [-1.74338434, -0.1373532 , -1.39001364, -1.30862368],\n",
       "       [-0.8980334 ,  0.78245027, -1.2764965 , -1.30862368],\n",
       "       [-1.01879782,  1.01240113, -1.39001364, -1.17705491],\n",
       "       [-1.62261992, -1.74700927, -1.39001364, -1.17705491],\n",
       "       [-1.74338434,  0.32254853, -1.39001364, -1.30862368],\n",
       "       [-1.01879782,  1.01240113, -1.21973792, -0.78234857],\n",
       "       [-0.8980334 ,  1.70225374, -1.0494622 , -1.04548613],\n",
       "       [-1.26032666, -0.1373532 , -1.33325507, -1.17705491],\n",
       "       [-0.8980334 ,  1.70225374, -1.21973792, -1.30862368],\n",
       "       [-1.5018555 ,  0.32254853, -1.33325507, -1.30862368],\n",
       "       [-0.65650456,  1.47230287, -1.2764965 , -1.30862368],\n",
       "       [-1.01879782,  0.5524994 , -1.33325507, -1.30862368],\n",
       "       [ 1.39649057,  0.32254853,  0.53977784,  0.27020165],\n",
       "       [ 0.67190405,  0.32254853,  0.42626069,  0.40177043],\n",
       "       [ 1.27572615,  0.09259766,  0.65329498,  0.40177043],\n",
       "       [-0.41497572, -1.74700927,  0.14246783,  0.13863287],\n",
       "       [ 0.79266847, -0.59725494,  0.48301927,  0.40177043],\n",
       "       [-0.17344688, -0.59725494,  0.42626069,  0.13863287],\n",
       "       [ 0.55113963,  0.5524994 ,  0.53977784,  0.53333921],\n",
       "       [-1.13956224, -1.51705841, -0.25484218, -0.25607346],\n",
       "       [ 0.91343289, -0.36730407,  0.48301927,  0.13863287],\n",
       "       [-0.77726898, -0.8272058 ,  0.08570925,  0.27020165],\n",
       "       [-1.01879782, -2.43686188, -0.14132504, -0.25607346],\n",
       "       [ 0.06808195, -0.1373532 ,  0.25598497,  0.40177043],\n",
       "       [ 0.18884637, -1.97696014,  0.14246783, -0.25607346],\n",
       "       [ 0.30961079, -0.36730407,  0.53977784,  0.27020165],\n",
       "       [-0.2942113 , -0.36730407, -0.08456646,  0.13863287],\n",
       "       [ 1.03419731,  0.09259766,  0.36950212,  0.27020165],\n",
       "       [-0.2942113 , -0.1373532 ,  0.42626069,  0.40177043],\n",
       "       [-0.05268246, -0.8272058 ,  0.1992264 , -0.25607346],\n",
       "       [ 0.43037521, -1.97696014,  0.42626069,  0.40177043],\n",
       "       [-0.2942113 , -1.28710754,  0.08570925, -0.12450468],\n",
       "       [ 0.06808195,  0.32254853,  0.59653641,  0.79647676],\n",
       "       [ 0.30961079, -0.59725494,  0.14246783,  0.13863287],\n",
       "       [ 0.55113963, -1.28710754,  0.65329498,  0.40177043],\n",
       "       [ 0.30961079, -0.59725494,  0.53977784,  0.0070641 ],\n",
       "       [ 0.67190405, -0.36730407,  0.31274355,  0.13863287],\n",
       "       [ 0.91343289, -0.1373532 ,  0.36950212,  0.27020165],\n",
       "       [ 1.15496173, -0.59725494,  0.59653641,  0.27020165],\n",
       "       [ 1.03419731, -0.1373532 ,  0.71005356,  0.66490799],\n",
       "       [ 0.18884637, -0.36730407,  0.42626069,  0.40177043],\n",
       "       [-0.17344688, -1.05715667, -0.14132504, -0.25607346],\n",
       "       [-0.41497572, -1.51705841,  0.02895068, -0.12450468],\n",
       "       [-0.41497572, -1.51705841, -0.02780789, -0.25607346],\n",
       "       [-0.05268246, -0.8272058 ,  0.08570925,  0.0070641 ],\n",
       "       [ 0.18884637, -0.8272058 ,  0.76681213,  0.53333921],\n",
       "       [-0.53574014, -0.1373532 ,  0.42626069,  0.40177043],\n",
       "       [ 0.18884637,  0.78245027,  0.42626069,  0.53333921],\n",
       "       [ 1.03419731,  0.09259766,  0.53977784,  0.40177043],\n",
       "       [ 0.55113963, -1.74700927,  0.36950212,  0.13863287],\n",
       "       [-0.2942113 , -0.1373532 ,  0.1992264 ,  0.13863287],\n",
       "       [-0.41497572, -1.28710754,  0.14246783,  0.13863287],\n",
       "       [-0.41497572, -1.05715667,  0.36950212,  0.0070641 ],\n",
       "       [ 0.30961079, -0.1373532 ,  0.48301927,  0.27020165],\n",
       "       [-0.05268246, -1.05715667,  0.14246783,  0.0070641 ],\n",
       "       [-1.01879782, -1.74700927, -0.25484218, -0.25607346],\n",
       "       [-0.2942113 , -0.8272058 ,  0.25598497,  0.13863287],\n",
       "       [-0.17344688, -0.1373532 ,  0.25598497,  0.0070641 ],\n",
       "       [-0.17344688, -0.36730407,  0.25598497,  0.13863287],\n",
       "       [ 0.43037521, -0.36730407,  0.31274355,  0.13863287],\n",
       "       [-0.8980334 , -1.28710754, -0.4251179 , -0.12450468],\n",
       "       [-0.17344688, -0.59725494,  0.1992264 ,  0.13863287],\n",
       "       [ 0.55113963,  0.5524994 ,  1.27763929,  1.71745821],\n",
       "       [-0.05268246, -0.8272058 ,  0.76681213,  0.92804554],\n",
       "       [ 1.51725499, -0.1373532 ,  1.22088071,  1.1911831 ],\n",
       "       [ 0.55113963, -0.36730407,  1.05060499,  0.79647676],\n",
       "       [ 0.79266847, -0.1373532 ,  1.16412214,  1.32275187],\n",
       "       [ 2.12107708, -0.1373532 ,  1.61819072,  1.1911831 ],\n",
       "       [-1.13956224, -1.28710754,  0.42626069,  0.66490799],\n",
       "       [ 1.75878383, -0.36730407,  1.44791501,  0.79647676],\n",
       "       [ 1.03419731, -1.28710754,  1.16412214,  0.79647676],\n",
       "       [ 1.63801941,  1.242352  ,  1.33439786,  1.71745821],\n",
       "       [ 0.79266847,  0.32254853,  0.76681213,  1.05961432],\n",
       "       [ 0.67190405, -0.8272058 ,  0.88032928,  0.92804554],\n",
       "       [ 1.15496173, -0.1373532 ,  0.99384642,  1.1911831 ],\n",
       "       [-0.17344688, -1.28710754,  0.71005356,  1.05961432],\n",
       "       [-0.05268246, -0.59725494,  0.76681213,  1.58588943],\n",
       "       [ 0.67190405,  0.32254853,  0.88032928,  1.45432065],\n",
       "       [ 0.79266847, -0.1373532 ,  0.99384642,  0.79647676],\n",
       "       [ 2.2418415 ,  1.70225374,  1.6749493 ,  1.32275187],\n",
       "       [ 2.2418415 , -1.05715667,  1.78846644,  1.45432065],\n",
       "       [ 0.18884637, -1.97696014,  0.71005356,  0.40177043],\n",
       "       [ 1.27572615,  0.32254853,  1.10736357,  1.45432065],\n",
       "       [-0.2942113 , -0.59725494,  0.65329498,  1.05961432],\n",
       "       [ 2.2418415 , -0.59725494,  1.6749493 ,  1.05961432],\n",
       "       [ 0.55113963, -0.8272058 ,  0.65329498,  0.79647676],\n",
       "       [ 1.03419731,  0.5524994 ,  1.10736357,  1.1911831 ],\n",
       "       [ 1.63801941,  0.32254853,  1.27763929,  0.79647676],\n",
       "       [ 0.43037521, -0.59725494,  0.59653641,  0.79647676],\n",
       "       [ 0.30961079, -0.1373532 ,  0.65329498,  0.79647676],\n",
       "       [ 0.67190405, -0.59725494,  1.05060499,  1.1911831 ],\n",
       "       [ 1.63801941, -0.1373532 ,  1.16412214,  0.53333921],\n",
       "       [ 1.87954825, -0.59725494,  1.33439786,  0.92804554],\n",
       "       [ 2.48337034,  1.70225374,  1.50467358,  1.05961432],\n",
       "       [ 0.67190405, -0.59725494,  1.05060499,  1.32275187],\n",
       "       [ 0.55113963, -0.59725494,  0.76681213,  0.40177043],\n",
       "       [ 0.30961079, -1.05715667,  1.05060499,  0.27020165],\n",
       "       [ 2.2418415 , -0.1373532 ,  1.33439786,  1.45432065],\n",
       "       [ 0.55113963,  0.78245027,  1.05060499,  1.58588943],\n",
       "       [ 0.67190405,  0.09259766,  0.99384642,  0.79647676],\n",
       "       [ 0.18884637, -0.1373532 ,  0.59653641,  0.79647676],\n",
       "       [ 1.27572615,  0.09259766,  0.93708785,  1.1911831 ],\n",
       "       [ 1.03419731,  0.09259766,  1.05060499,  1.58588943],\n",
       "       [ 1.27572615,  0.09259766,  0.76681213,  1.45432065],\n",
       "       [ 1.15496173,  0.32254853,  1.22088071,  1.45432065],\n",
       "       [ 1.03419731,  0.5524994 ,  1.10736357,  1.71745821],\n",
       "       [ 1.03419731, -0.1373532 ,  0.8235707 ,  1.45432065],\n",
       "       [ 0.55113963, -1.28710754,  0.71005356,  0.92804554],\n",
       "       [ 0.79266847, -0.1373532 ,  0.8235707 ,  1.05961432],\n",
       "       [ 0.43037521,  0.78245027,  0.93708785,  1.45432065],\n",
       "       [ 0.06808195, -0.1373532 ,  0.76681213,  0.79647676]])"
      ]
     },
     "execution_count": 168,
     "metadata": {},
     "output_type": "execute_result"
    }
   ],
   "source": [
    "Y = scaled_features.copy()\n",
    "Y"
   ]
  },
  {
   "cell_type": "code",
   "execution_count": 174,
   "id": "eda5718c-54c9-4e71-aba5-471f2944a18b",
   "metadata": {},
   "outputs": [],
   "source": [
    "pca = PCA(n_components=2)\n",
    "Y_pca = pca.fit_transform(Y)"
   ]
  },
  {
   "cell_type": "code",
   "execution_count": 176,
   "id": "971d0cba-9017-43ef-a456-a1d71f4e9192",
   "metadata": {},
   "outputs": [
    {
     "name": "stdout",
     "output_type": "stream",
     "text": [
      "Number of components chosen by PCA to retain 95% variance: 2\n"
     ]
    }
   ],
   "source": [
    "print(f\"Number of components chosen by PCA to retain 95% variance: {pca.n_components_}\")"
   ]
  },
  {
   "cell_type": "code",
   "execution_count": 180,
   "id": "b9042da2-f2d1-4d8f-b139-e8d1c17a7464",
   "metadata": {},
   "outputs": [
    {
     "name": "stdout",
     "output_type": "stream",
     "text": [
      "Original Dimensions: 4\n",
      "Reduced Dimensions: 2\n"
     ]
    }
   ],
   "source": [
    "print(f\"Original Dimensions: {Y.shape[1]}\")\n",
    "print(f\"Reduced Dimensions: {Y_pca.shape[1]}\")"
   ]
  },
  {
   "cell_type": "markdown",
   "id": "181ae4df-29c5-4df3-bc8a-b21bf855762e",
   "metadata": {},
   "source": [
    "### Explain why Hierarchical clustering might be suitable for the Iris dataset.\n"
   ]
  },
  {
   "cell_type": "markdown",
   "id": "039a94db-9d98-44f7-bdc1-039ad67af8cc",
   "metadata": {},
   "source": [
    "* Hierarchical clustering can be a great choice for the Iris dataset due to its small size and natural group structure."
   ]
  },
  {
   "cell_type": "markdown",
   "id": "c9ba7d52-d2dc-4cfe-95ad-1d8bafd26a97",
   "metadata": {},
   "source": [
    "### Explain why KMeans clustering might be suitable for the Iris dataset.\n"
   ]
  },
  {
   "cell_type": "markdown",
   "id": "f5745f8d-ef68-4f2e-acc5-544a42e4c0ec",
   "metadata": {},
   "source": [
    "* The Iris Dataset Has Well-Separated Clusters\n",
    "* Efficient and Scalable\n",
    "* Works Well with High-Dimensional Data"
   ]
  },
  {
   "cell_type": "code",
   "execution_count": null,
   "id": "0106374f-679b-40e4-b3e2-c7308a4f793e",
   "metadata": {},
   "outputs": [],
   "source": []
  }
 ],
 "metadata": {
  "kernelspec": {
   "display_name": "Python [conda env:base] *",
   "language": "python",
   "name": "conda-base-py"
  },
  "language_info": {
   "codemirror_mode": {
    "name": "ipython",
    "version": 3
   },
   "file_extension": ".py",
   "mimetype": "text/x-python",
   "name": "python",
   "nbconvert_exporter": "python",
   "pygments_lexer": "ipython3",
   "version": "3.12.7"
  }
 },
 "nbformat": 4,
 "nbformat_minor": 5
}
