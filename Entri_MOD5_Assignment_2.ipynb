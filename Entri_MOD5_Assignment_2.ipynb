{
 "cells": [
  {
   "cell_type": "markdown",
   "id": "87fd6798-c499-4f19-a2e4-63fe4e563949",
   "metadata": {},
   "source": [
    "# Entri MOD 5 Assignment 2"
   ]
  },
  {
   "cell_type": "markdown",
   "id": "19f3e10f-b7ae-4153-b660-60d406af6fb6",
   "metadata": {},
   "source": [
    "## Import libraries"
   ]
  },
  {
   "cell_type": "code",
   "execution_count": 98,
   "id": "6a99b2f9-d475-4a1c-a10b-bb13069c322e",
   "metadata": {},
   "outputs": [],
   "source": [
    "import pandas as pd\n",
    "import numpy as np\n",
    "import matplotlib.pyplot as plt\n",
    "import seaborn as sns\n",
    "from sklearn.preprocessing import StandardScaler, MinMaxScaler"
   ]
  },
  {
   "cell_type": "markdown",
   "id": "ba5d645f-6114-4ff3-b1ab-96200dd210f3",
   "metadata": {},
   "source": [
    "### Read data"
   ]
  },
  {
   "cell_type": "code",
   "execution_count": 7,
   "id": "5676e8f6-b040-4002-89de-48646cd280cd",
   "metadata": {},
   "outputs": [],
   "source": [
    "data = pd.read_csv(\"Employee.csv\", encoding_errors=\"ignore\")"
   ]
  },
  {
   "cell_type": "markdown",
   "id": "30cc2921-e09a-4a68-b9da-59aa98c5a887",
   "metadata": {},
   "source": [
    "### Data Exploration"
   ]
  },
  {
   "cell_type": "code",
   "execution_count": 9,
   "id": "d4b4c159-3678-460f-8de3-e85e21fcaf9e",
   "metadata": {},
   "outputs": [
    {
     "data": {
      "text/html": [
       "<div>\n",
       "<style scoped>\n",
       "    .dataframe tbody tr th:only-of-type {\n",
       "        vertical-align: middle;\n",
       "    }\n",
       "\n",
       "    .dataframe tbody tr th {\n",
       "        vertical-align: top;\n",
       "    }\n",
       "\n",
       "    .dataframe thead th {\n",
       "        text-align: right;\n",
       "    }\n",
       "</style>\n",
       "<table border=\"1\" class=\"dataframe\">\n",
       "  <thead>\n",
       "    <tr style=\"text-align: right;\">\n",
       "      <th></th>\n",
       "      <th>Company</th>\n",
       "      <th>Age</th>\n",
       "      <th>Salary</th>\n",
       "      <th>Place</th>\n",
       "      <th>Country</th>\n",
       "      <th>Gender</th>\n",
       "    </tr>\n",
       "  </thead>\n",
       "  <tbody>\n",
       "    <tr>\n",
       "      <th>0</th>\n",
       "      <td>TCS</td>\n",
       "      <td>20.0</td>\n",
       "      <td>NaN</td>\n",
       "      <td>Chennai</td>\n",
       "      <td>India</td>\n",
       "      <td>0</td>\n",
       "    </tr>\n",
       "    <tr>\n",
       "      <th>1</th>\n",
       "      <td>Infosys</td>\n",
       "      <td>30.0</td>\n",
       "      <td>NaN</td>\n",
       "      <td>Mumbai</td>\n",
       "      <td>India</td>\n",
       "      <td>0</td>\n",
       "    </tr>\n",
       "    <tr>\n",
       "      <th>2</th>\n",
       "      <td>TCS</td>\n",
       "      <td>35.0</td>\n",
       "      <td>2300.0</td>\n",
       "      <td>Calcutta</td>\n",
       "      <td>India</td>\n",
       "      <td>0</td>\n",
       "    </tr>\n",
       "    <tr>\n",
       "      <th>3</th>\n",
       "      <td>Infosys</td>\n",
       "      <td>40.0</td>\n",
       "      <td>3000.0</td>\n",
       "      <td>Delhi</td>\n",
       "      <td>India</td>\n",
       "      <td>0</td>\n",
       "    </tr>\n",
       "    <tr>\n",
       "      <th>4</th>\n",
       "      <td>TCS</td>\n",
       "      <td>23.0</td>\n",
       "      <td>4000.0</td>\n",
       "      <td>Mumbai</td>\n",
       "      <td>India</td>\n",
       "      <td>0</td>\n",
       "    </tr>\n",
       "  </tbody>\n",
       "</table>\n",
       "</div>"
      ],
      "text/plain": [
       "   Company   Age  Salary     Place Country  Gender\n",
       "0      TCS  20.0     NaN   Chennai   India       0\n",
       "1  Infosys  30.0     NaN    Mumbai   India       0\n",
       "2      TCS  35.0  2300.0  Calcutta   India       0\n",
       "3  Infosys  40.0  3000.0     Delhi   India       0\n",
       "4      TCS  23.0  4000.0    Mumbai   India       0"
      ]
     },
     "execution_count": 9,
     "metadata": {},
     "output_type": "execute_result"
    }
   ],
   "source": [
    "data.head()"
   ]
  },
  {
   "cell_type": "code",
   "execution_count": 11,
   "id": "e314cc8c-8f91-4978-b484-2fdc688b576d",
   "metadata": {},
   "outputs": [
    {
     "data": {
      "text/html": [
       "<div>\n",
       "<style scoped>\n",
       "    .dataframe tbody tr th:only-of-type {\n",
       "        vertical-align: middle;\n",
       "    }\n",
       "\n",
       "    .dataframe tbody tr th {\n",
       "        vertical-align: top;\n",
       "    }\n",
       "\n",
       "    .dataframe thead th {\n",
       "        text-align: right;\n",
       "    }\n",
       "</style>\n",
       "<table border=\"1\" class=\"dataframe\">\n",
       "  <thead>\n",
       "    <tr style=\"text-align: right;\">\n",
       "      <th></th>\n",
       "      <th>Company</th>\n",
       "      <th>Age</th>\n",
       "      <th>Salary</th>\n",
       "      <th>Place</th>\n",
       "      <th>Country</th>\n",
       "      <th>Gender</th>\n",
       "    </tr>\n",
       "  </thead>\n",
       "  <tbody>\n",
       "    <tr>\n",
       "      <th>143</th>\n",
       "      <td>TCS</td>\n",
       "      <td>33.0</td>\n",
       "      <td>9024.0</td>\n",
       "      <td>Calcutta</td>\n",
       "      <td>India</td>\n",
       "      <td>1</td>\n",
       "    </tr>\n",
       "    <tr>\n",
       "      <th>144</th>\n",
       "      <td>Infosys</td>\n",
       "      <td>22.0</td>\n",
       "      <td>8787.0</td>\n",
       "      <td>Calcutta</td>\n",
       "      <td>India</td>\n",
       "      <td>1</td>\n",
       "    </tr>\n",
       "    <tr>\n",
       "      <th>145</th>\n",
       "      <td>Infosys</td>\n",
       "      <td>44.0</td>\n",
       "      <td>4034.0</td>\n",
       "      <td>Delhi</td>\n",
       "      <td>India</td>\n",
       "      <td>1</td>\n",
       "    </tr>\n",
       "    <tr>\n",
       "      <th>146</th>\n",
       "      <td>TCS</td>\n",
       "      <td>33.0</td>\n",
       "      <td>5034.0</td>\n",
       "      <td>Mumbai</td>\n",
       "      <td>India</td>\n",
       "      <td>1</td>\n",
       "    </tr>\n",
       "    <tr>\n",
       "      <th>147</th>\n",
       "      <td>Infosys</td>\n",
       "      <td>22.0</td>\n",
       "      <td>8202.0</td>\n",
       "      <td>Cochin</td>\n",
       "      <td>India</td>\n",
       "      <td>0</td>\n",
       "    </tr>\n",
       "  </tbody>\n",
       "</table>\n",
       "</div>"
      ],
      "text/plain": [
       "     Company   Age  Salary     Place Country  Gender\n",
       "143      TCS  33.0  9024.0  Calcutta   India       1\n",
       "144  Infosys  22.0  8787.0  Calcutta   India       1\n",
       "145  Infosys  44.0  4034.0     Delhi   India       1\n",
       "146      TCS  33.0  5034.0    Mumbai   India       1\n",
       "147  Infosys  22.0  8202.0    Cochin   India       0"
      ]
     },
     "execution_count": 11,
     "metadata": {},
     "output_type": "execute_result"
    }
   ],
   "source": [
    "data.tail()"
   ]
  },
  {
   "cell_type": "code",
   "execution_count": 15,
   "id": "000ebcd2-df4d-4bf5-9a57-14b8a91b1168",
   "metadata": {},
   "outputs": [
    {
     "data": {
      "text/plain": [
       "(148, 6)"
      ]
     },
     "execution_count": 15,
     "metadata": {},
     "output_type": "execute_result"
    }
   ],
   "source": [
    "data.shape"
   ]
  },
  {
   "cell_type": "code",
   "execution_count": 17,
   "id": "8714388d-27a8-4422-aa4e-1fc3c539b497",
   "metadata": {},
   "outputs": [
    {
     "name": "stdout",
     "output_type": "stream",
     "text": [
      "<class 'pandas.core.frame.DataFrame'>\n",
      "RangeIndex: 148 entries, 0 to 147\n",
      "Data columns (total 6 columns):\n",
      " #   Column   Non-Null Count  Dtype  \n",
      "---  ------   --------------  -----  \n",
      " 0   Company  140 non-null    object \n",
      " 1   Age      130 non-null    float64\n",
      " 2   Salary   124 non-null    float64\n",
      " 3   Place    134 non-null    object \n",
      " 4   Country  148 non-null    object \n",
      " 5   Gender   148 non-null    int64  \n",
      "dtypes: float64(2), int64(1), object(3)\n",
      "memory usage: 7.1+ KB\n"
     ]
    }
   ],
   "source": [
    "data.info()"
   ]
  },
  {
   "cell_type": "code",
   "execution_count": 19,
   "id": "01a46618-eaed-44fd-8735-fb32b1ecd72d",
   "metadata": {},
   "outputs": [
    {
     "data": {
      "text/html": [
       "<div>\n",
       "<style scoped>\n",
       "    .dataframe tbody tr th:only-of-type {\n",
       "        vertical-align: middle;\n",
       "    }\n",
       "\n",
       "    .dataframe tbody tr th {\n",
       "        vertical-align: top;\n",
       "    }\n",
       "\n",
       "    .dataframe thead th {\n",
       "        text-align: right;\n",
       "    }\n",
       "</style>\n",
       "<table border=\"1\" class=\"dataframe\">\n",
       "  <thead>\n",
       "    <tr style=\"text-align: right;\">\n",
       "      <th></th>\n",
       "      <th>Age</th>\n",
       "      <th>Salary</th>\n",
       "      <th>Gender</th>\n",
       "    </tr>\n",
       "  </thead>\n",
       "  <tbody>\n",
       "    <tr>\n",
       "      <th>count</th>\n",
       "      <td>130.000000</td>\n",
       "      <td>124.000000</td>\n",
       "      <td>148.000000</td>\n",
       "    </tr>\n",
       "    <tr>\n",
       "      <th>mean</th>\n",
       "      <td>30.484615</td>\n",
       "      <td>5312.467742</td>\n",
       "      <td>0.222973</td>\n",
       "    </tr>\n",
       "    <tr>\n",
       "      <th>std</th>\n",
       "      <td>11.096640</td>\n",
       "      <td>2573.764683</td>\n",
       "      <td>0.417654</td>\n",
       "    </tr>\n",
       "    <tr>\n",
       "      <th>min</th>\n",
       "      <td>0.000000</td>\n",
       "      <td>1089.000000</td>\n",
       "      <td>0.000000</td>\n",
       "    </tr>\n",
       "    <tr>\n",
       "      <th>25%</th>\n",
       "      <td>22.000000</td>\n",
       "      <td>3030.000000</td>\n",
       "      <td>0.000000</td>\n",
       "    </tr>\n",
       "    <tr>\n",
       "      <th>50%</th>\n",
       "      <td>32.500000</td>\n",
       "      <td>5000.000000</td>\n",
       "      <td>0.000000</td>\n",
       "    </tr>\n",
       "    <tr>\n",
       "      <th>75%</th>\n",
       "      <td>37.750000</td>\n",
       "      <td>8000.000000</td>\n",
       "      <td>0.000000</td>\n",
       "    </tr>\n",
       "    <tr>\n",
       "      <th>max</th>\n",
       "      <td>54.000000</td>\n",
       "      <td>9876.000000</td>\n",
       "      <td>1.000000</td>\n",
       "    </tr>\n",
       "  </tbody>\n",
       "</table>\n",
       "</div>"
      ],
      "text/plain": [
       "              Age       Salary      Gender\n",
       "count  130.000000   124.000000  148.000000\n",
       "mean    30.484615  5312.467742    0.222973\n",
       "std     11.096640  2573.764683    0.417654\n",
       "min      0.000000  1089.000000    0.000000\n",
       "25%     22.000000  3030.000000    0.000000\n",
       "50%     32.500000  5000.000000    0.000000\n",
       "75%     37.750000  8000.000000    0.000000\n",
       "max     54.000000  9876.000000    1.000000"
      ]
     },
     "execution_count": 19,
     "metadata": {},
     "output_type": "execute_result"
    }
   ],
   "source": [
    "data.describe()"
   ]
  },
  {
   "cell_type": "code",
   "execution_count": 25,
   "id": "50f44b0a-63d9-44b8-a78a-1583a3c6e140",
   "metadata": {},
   "outputs": [
    {
     "name": "stdout",
     "output_type": "stream",
     "text": [
      "Company     6\n",
      "Age        29\n",
      "Salary     40\n",
      "Place      11\n",
      "Country     1\n",
      "Gender      2\n",
      "dtype: int64\n"
     ]
    }
   ],
   "source": [
    "unique_counts = data.nunique()\n",
    "print(unique_counts)"
   ]
  },
  {
   "cell_type": "code",
   "execution_count": 31,
   "id": "007bd907-cca1-4507-80db-9f5e40621e37",
   "metadata": {},
   "outputs": [
    {
     "name": "stdout",
     "output_type": "stream",
     "text": [
      "\n",
      "Unique Values in Each Feature:\n",
      "Company: ['TCS' 'Infosys' 'CTS' nan 'Tata Consultancy Services' 'Congnizant'\n",
      " 'Infosys Pvt Lmt']\n",
      "Age: [20. 30. 35. 40. 23. nan 34. 45. 18. 22. 32. 37. 50. 21. 46. 36. 26. 41.\n",
      " 24. 25. 43. 19. 38. 51. 31. 44. 33. 17.  0. 54.]\n",
      "Salary: [  nan 2300. 3000. 4000. 5000. 6000. 7000. 8000. 9000. 1089. 1234. 3030.\n",
      " 3045. 3184. 4824. 5835. 7084. 8943. 8345. 9284. 9876. 2034. 7654. 2934.\n",
      " 4034. 5034. 8202. 9024. 4345. 6544. 6543. 3234. 4324. 5435. 5555. 8787.\n",
      " 3454. 5654. 5009. 5098. 3033.]\n",
      "Place: ['Chennai' 'Mumbai' 'Calcutta' 'Delhi' 'Podicherry' 'Cochin' nan 'Noida'\n",
      " 'Hyderabad' 'Bhopal' 'Nagpur' 'Pune']\n",
      "Country: ['India']\n",
      "Gender: [0 1]\n"
     ]
    }
   ],
   "source": [
    "unique_values = {col: data[col].unique() for col in data.columns}\n",
    "print(\"\\nUnique Values in Each Feature:\")\n",
    "for col, values in unique_values.items():\n",
    "    print(f\"{col}: {values}\")"
   ]
  },
  {
   "cell_type": "markdown",
   "id": "6e858fa0-a258-463c-a4ad-c4cc16912112",
   "metadata": {},
   "source": [
    "### Data Cleaning"
   ]
  },
  {
   "cell_type": "markdown",
   "id": "3e6d566e-5b97-463c-b28b-1ce9e6d5830a",
   "metadata": {},
   "source": [
    "#### Duplicates"
   ]
  },
  {
   "cell_type": "code",
   "execution_count": 34,
   "id": "be3c9cc2-f605-4f87-a75c-89baca5ee1e0",
   "metadata": {},
   "outputs": [
    {
     "data": {
      "text/plain": [
       "4"
      ]
     },
     "execution_count": 34,
     "metadata": {},
     "output_type": "execute_result"
    }
   ],
   "source": [
    "data.duplicated().sum()"
   ]
  },
  {
   "cell_type": "code",
   "execution_count": 36,
   "id": "09180bc3-b0f3-4185-a343-26390d45ccd5",
   "metadata": {},
   "outputs": [],
   "source": [
    "data.drop_duplicates(inplace=True)"
   ]
  },
  {
   "cell_type": "code",
   "execution_count": 38,
   "id": "91f92946-9492-432a-9295-0c00d6ed799a",
   "metadata": {},
   "outputs": [
    {
     "data": {
      "text/plain": [
       "(144, 6)"
      ]
     },
     "execution_count": 38,
     "metadata": {},
     "output_type": "execute_result"
    }
   ],
   "source": [
    "data.shape"
   ]
  },
  {
   "cell_type": "markdown",
   "id": "20608f76-23ee-4245-8e0e-2fdceb6a556b",
   "metadata": {},
   "source": [
    "#### NULL values"
   ]
  },
  {
   "cell_type": "code",
   "execution_count": 43,
   "id": "8cf99b9c-f752-4e6f-a11e-d89756739ce7",
   "metadata": {},
   "outputs": [
    {
     "data": {
      "text/plain": [
       "Company     8\n",
       "Age        17\n",
       "Salary     23\n",
       "Place      14\n",
       "Country     0\n",
       "Gender      0\n",
       "dtype: int64"
      ]
     },
     "execution_count": 43,
     "metadata": {},
     "output_type": "execute_result"
    }
   ],
   "source": [
    "data.isnull().sum()"
   ]
  },
  {
   "cell_type": "markdown",
   "id": "214e52be-e48e-4379-8a80-de23c78a7d51",
   "metadata": {},
   "source": [
    "#### check for outliers"
   ]
  },
  {
   "cell_type": "code",
   "execution_count": 46,
   "id": "b59aef9f-5fc3-45ef-be86-6525e8e6c6f2",
   "metadata": {},
   "outputs": [
    {
     "data": {
      "image/png": "[encoded data removed]",
      "text/plain": [
       "<Figure size 1200x800 with 1 Axes>"
      ]
     },
     "metadata": {},
     "output_type": "display_data"
    }
   ],
   "source": [
    "plt.figure(figsize=(12, 8))\n",
    "sns.boxplot(data)\n",
    "plt.xticks(rotation=90)\n",
    "plt.title('Boxplot of  Features')\n",
    "plt.show()"
   ]
  },
  {
   "cell_type": "markdown",
   "id": "28ff220d-a719-41c0-a742-b843b1a6227d",
   "metadata": {},
   "source": [
    "#### replacing null values"
   ]
  },
  {
   "cell_type": "code",
   "execution_count": 61,
   "id": "28e74165-6113-4c31-8bd6-22b68325ed13",
   "metadata": {},
   "outputs": [
    {
     "name": "stderr",
     "output_type": "stream",
     "text": [
      "C:\\Users\\jayak\\AppData\\Local\\Temp\\ipykernel_12396\\777828202.py:1: FutureWarning: A value is trying to be set on a copy of a DataFrame or Series through chained assignment using an inplace method.\n",
      "The behavior will change in pandas 3.0. This inplace method will never work because the intermediate object on which we are setting values always behaves as a copy.\n",
      "\n",
      "For example, when doing 'df[col].method(value, inplace=True)', try using 'df.method({col: value}, inplace=True)' or df[col] = df[col].method(value) instead, to perform the operation inplace on the original object.\n",
      "\n",
      "\n",
      "  data['Age'].fillna(data['Age'].mean(), inplace=True)\n",
      "C:\\Users\\jayak\\AppData\\Local\\Temp\\ipykernel_12396\\777828202.py:2: FutureWarning: A value is trying to be set on a copy of a DataFrame or Series through chained assignment using an inplace method.\n",
      "The behavior will change in pandas 3.0. This inplace method will never work because the intermediate object on which we are setting values always behaves as a copy.\n",
      "\n",
      "For example, when doing 'df[col].method(value, inplace=True)', try using 'df.method({col: value}, inplace=True)' or df[col] = df[col].method(value) instead, to perform the operation inplace on the original object.\n",
      "\n",
      "\n",
      "  data['Salary'].fillna(data['Salary'].mean(), inplace=True)\n",
      "C:\\Users\\jayak\\AppData\\Local\\Temp\\ipykernel_12396\\777828202.py:4: FutureWarning: A value is trying to be set on a copy of a DataFrame or Series through chained assignment using an inplace method.\n",
      "The behavior will change in pandas 3.0. This inplace method will never work because the intermediate object on which we are setting values always behaves as a copy.\n",
      "\n",
      "For example, when doing 'df[col].method(value, inplace=True)', try using 'df.method({col: value}, inplace=True)' or df[col] = df[col].method(value) instead, to perform the operation inplace on the original object.\n",
      "\n",
      "\n",
      "  data['Company'].fillna(\"Unknown\", inplace=True)\n"
     ]
    }
   ],
   "source": [
    "data['Age'].fillna(data['Age'].mean(), inplace=True)  \n",
    "data['Salary'].fillna(data['Salary'].mean(), inplace=True) \n",
    "data['Place'].fillna(data['Place'].mode()[0], inplace=True)\n",
    "data['Company'].fillna(\"Unknown\", inplace=True)  "
   ]
  },
  {
   "cell_type": "code",
   "execution_count": 63,
   "id": "e4fe7307-432e-418c-a90c-9d3f6d4480e7",
   "metadata": {},
   "outputs": [
    {
     "data": {
      "text/plain": [
       "Company    0\n",
       "Age        0\n",
       "Salary     0\n",
       "Place      0\n",
       "Country    0\n",
       "Gender     0\n",
       "dtype: int64"
      ]
     },
     "execution_count": 63,
     "metadata": {},
     "output_type": "execute_result"
    }
   ],
   "source": [
    "data.isnull().sum()"
   ]
  },
  {
   "cell_type": "markdown",
   "id": "b78d657f-afff-49e4-ba79-aa2ef795a9be",
   "metadata": {},
   "source": [
    "#### Replace age = 0 by Nan"
   ]
  },
  {
   "cell_type": "code",
   "execution_count": 72,
   "id": "4832679e-d3f2-4374-bfc7-86ba9f1cc4a8",
   "metadata": {},
   "outputs": [
    {
     "name": "stderr",
     "output_type": "stream",
     "text": [
      "C:\\Users\\jayak\\AppData\\Local\\Temp\\ipykernel_12396\\1616465475.py:1: FutureWarning: A value is trying to be set on a copy of a DataFrame or Series through chained assignment using an inplace method.\n",
      "The behavior will change in pandas 3.0. This inplace method will never work because the intermediate object on which we are setting values always behaves as a copy.\n",
      "\n",
      "For example, when doing 'df[col].method(value, inplace=True)', try using 'df.method({col: value}, inplace=True)' or df[col] = df[col].method(value) instead, to perform the operation inplace on the original object.\n",
      "\n",
      "\n",
      "  data['Age'].replace(0, np.nan, inplace=True)\n"
     ]
    }
   ],
   "source": [
    "data['Age'].replace(0, np.nan, inplace=True)"
   ]
  },
  {
   "cell_type": "code",
   "execution_count": 65,
   "id": "0e67afaf-f0fd-42c7-96d9-bf1ff03e7306",
   "metadata": {},
   "outputs": [
    {
     "data": {
      "image/png": "[encoded data removed]",
      "text/plain": [
       "<Figure size 1200x800 with 1 Axes>"
      ]
     },
     "metadata": {},
     "output_type": "display_data"
    }
   ],
   "source": [
    "plt.figure(figsize=(12, 8))\n",
    "sns.boxplot(data)\n",
    "plt.xticks(rotation=90)\n",
    "plt.title('Boxplot of  Features')\n",
    "plt.show()"
   ]
  },
  {
   "cell_type": "markdown",
   "id": "39e31b46-3f41-451c-9189-58b169d31b17",
   "metadata": {},
   "source": [
    "### Data Analysis"
   ]
  },
  {
   "cell_type": "code",
   "execution_count": 77,
   "id": "01b61468-5058-4386-8b67-29d5622a1a9a",
   "metadata": {},
   "outputs": [
    {
     "name": "stdout",
     "output_type": "stream",
     "text": [
      "     Company   Age  Salary      Place Country  Gender\n",
      "21   Infosys  50.0  3184.0      Delhi   India       0\n",
      "32   Infosys  45.0  4034.0   Calcutta   India       0\n",
      "39   Infosys  41.0  3000.0     Mumbai   India       0\n",
      "50   Infosys  41.0  3000.0    Chennai   India       0\n",
      "57   Infosys  51.0  3184.0  Hyderabad   India       0\n",
      "68   Infosys  43.0  4034.0     Mumbai   India       0\n",
      "75   Infosys  44.0  3000.0     Cochin   India       0\n",
      "86   Infosys  41.0  3000.0      Delhi   India       0\n",
      "93   Infosys  54.0  3184.0     Mumbai   India       0\n",
      "104  Infosys  44.0  4034.0      Delhi   India       0\n",
      "122  Infosys  44.0  3234.0     Mumbai   India       0\n",
      "129  Infosys  50.0  3184.0   Calcutta   India       0\n",
      "138      CTS  44.0  3033.0     Cochin   India       0\n",
      "140  Infosys  44.0  4034.0  Hyderabad   India       0\n",
      "145  Infosys  44.0  4034.0      Delhi   India       1\n"
     ]
    }
   ],
   "source": [
    "filtered_data = data[(data['Age'] > 40) & (data['Salary'] < 5000)]\n",
    "print(filtered_data)"
   ]
  },
  {
   "cell_type": "code",
   "execution_count": 83,
   "id": "2e002f40-67ac-483d-8982-8cfcb16cb473",
   "metadata": {},
   "outputs": [
    {
     "data": {
      "image/png": "[encoded data removed]",
      "text/plain": [
       "<Figure size 800x500 with 1 Axes>"
      ]
     },
     "metadata": {},
     "output_type": "display_data"
    }
   ],
   "source": [
    "plt.figure(figsize=(8,5))\n",
    "sns.lineplot(x=data['Age'], y=data['Salary'], marker='o', color='red')\n",
    "plt.xlabel(\"Age\")\n",
    "plt.ylabel(\"Salary\")\n",
    "plt.title(\"Age vs Salary Trend\")\n",
    "plt.show()\n"
   ]
  },
  {
   "cell_type": "markdown",
   "id": "d18f0fc1-f35d-4d07-ac79-a43fe1949b58",
   "metadata": {},
   "source": [
    "* Younger professionals experience rapid salary growth, while mid-career individuals have fluctuations due to career changes or market conditions.\n",
    "* More experienced professionals (40+) have stable salaries but may see declines at older ages."
   ]
  },
  {
   "cell_type": "code",
   "execution_count": 86,
   "id": "3477231d-ff80-4939-9a73-05b68ba44d2e",
   "metadata": {},
   "outputs": [
    {
     "name": "stderr",
     "output_type": "stream",
     "text": [
      "C:\\Users\\jayak\\AppData\\Local\\Temp\\ipykernel_12396\\2353794387.py:3: FutureWarning: \n",
      "\n",
      "Passing `palette` without assigning `hue` is deprecated and will be removed in v0.14.0. Assign the `x` variable to `hue` and set `legend=False` for the same effect.\n",
      "\n",
      "  sns.barplot(x=place_counts.index, y=place_counts.values, palette=\"viridis\")\n"
     ]
    },
    {
     "data": {
      "image/png": "[encoded data removed]",
      "text/plain": [
       "<Figure size 1000x500 with 1 Axes>"
      ]
     },
     "metadata": {},
     "output_type": "display_data"
    }
   ],
   "source": [
    "place_counts = data['Place'].value_counts()\n",
    "plt.figure(figsize=(10, 5))\n",
    "sns.barplot(x=place_counts.index, y=place_counts.values, palette=\"viridis\")\n",
    "plt.xlabel(\"Place\")\n",
    "plt.ylabel(\"Number of People\")\n",
    "plt.title(\"Number of People from Each Place\")\n",
    "plt.xticks(rotation=45) \n",
    "plt.show()"
   ]
  },
  {
   "cell_type": "markdown",
   "id": "1327429a-bbd3-4bab-b446-05d8dabcf5ca",
   "metadata": {},
   "source": [
    "* The largest number of people are from Mumbai, with around 50 individuals."
   ]
  },
  {
   "cell_type": "markdown",
   "id": "e95a4171-397b-4b70-9d31-df6f395904bd",
   "metadata": {},
   "source": [
    "### Data Encoding"
   ]
  },
  {
   "cell_type": "code",
   "execution_count": 92,
   "id": "1f824003-c1dd-435e-9e52-683919ee3bf6",
   "metadata": {},
   "outputs": [
    {
     "data": {
      "text/plain": [
       "Company     object\n",
       "Age        float64\n",
       "Salary     float64\n",
       "Place       object\n",
       "Country     object\n",
       "Gender       int64\n",
       "dtype: object"
      ]
     },
     "execution_count": 92,
     "metadata": {},
     "output_type": "execute_result"
    }
   ],
   "source": [
    "data.dtypes"
   ]
  },
  {
   "cell_type": "markdown",
   "id": "d4280a86-ff9b-4022-a7d0-bea3944a2609",
   "metadata": {},
   "source": [
    "#### one hot encoding"
   ]
  },
  {
   "cell_type": "code",
   "execution_count": 95,
   "id": "07c4706c-78a8-4257-861c-454d2b1019cc",
   "metadata": {},
   "outputs": [
    {
     "name": "stdout",
     "output_type": "stream",
     "text": [
      "One-Hot Encoded Data:\n",
      "      Age       Salary  Gender  Company_CTS  Company_Congnizant  \\\n",
      "0    20.0  5283.471074       0        False               False   \n",
      "1    30.0  5283.471074       0        False               False   \n",
      "2    35.0  2300.000000       0        False               False   \n",
      "3    40.0  3000.000000       0        False               False   \n",
      "4    23.0  4000.000000       0        False               False   \n",
      "..    ...          ...     ...          ...                 ...   \n",
      "142  22.0  8202.000000       0        False               False   \n",
      "143  33.0  9024.000000       1        False               False   \n",
      "145  44.0  4034.000000       1        False               False   \n",
      "146  33.0  5034.000000       1        False               False   \n",
      "147  22.0  8202.000000       0        False               False   \n",
      "\n",
      "     Company_Infosys  Company_Infosys Pvt Lmt  Company_TCS  \\\n",
      "0              False                    False         True   \n",
      "1               True                    False        False   \n",
      "2              False                    False         True   \n",
      "3               True                    False        False   \n",
      "4              False                    False         True   \n",
      "..               ...                      ...          ...   \n",
      "142            False                     True        False   \n",
      "143            False                    False         True   \n",
      "145             True                    False        False   \n",
      "146            False                    False         True   \n",
      "147             True                    False        False   \n",
      "\n",
      "     Company_Tata Consultancy Services  Company_Unknown  ...  Place_Calcutta  \\\n",
      "0                                False            False  ...           False   \n",
      "1                                False            False  ...           False   \n",
      "2                                False            False  ...            True   \n",
      "3                                False            False  ...           False   \n",
      "4                                False            False  ...           False   \n",
      "..                                 ...              ...  ...             ...   \n",
      "142                              False            False  ...           False   \n",
      "143                              False            False  ...            True   \n",
      "145                              False            False  ...           False   \n",
      "146                              False            False  ...           False   \n",
      "147                              False            False  ...           False   \n",
      "\n",
      "     Place_Chennai  Place_Cochin  Place_Delhi  Place_Hyderabad  Place_Mumbai  \\\n",
      "0             True         False        False            False         False   \n",
      "1            False         False        False            False          True   \n",
      "2            False         False        False            False         False   \n",
      "3            False         False         True            False         False   \n",
      "4            False         False        False            False          True   \n",
      "..             ...           ...          ...              ...           ...   \n",
      "142          False         False        False            False          True   \n",
      "143          False         False        False            False         False   \n",
      "145          False         False         True            False         False   \n",
      "146          False         False        False            False          True   \n",
      "147          False          True        False            False         False   \n",
      "\n",
      "     Place_Nagpur  Place_Noida  Place_Podicherry  Place_Pune  \n",
      "0           False        False             False       False  \n",
      "1           False        False             False       False  \n",
      "2           False        False             False       False  \n",
      "3           False        False             False       False  \n",
      "4           False        False             False       False  \n",
      "..            ...          ...               ...         ...  \n",
      "142         False        False             False       False  \n",
      "143         False        False             False       False  \n",
      "145         False        False             False       False  \n",
      "146         False        False             False       False  \n",
      "147         False        False             False       False  \n",
      "\n",
      "[144 rows x 22 columns]\n"
     ]
    }
   ],
   "source": [
    "categorical_columns = ['Company', 'Country', 'Place']  # List of columns to encode\n",
    "data_one_hot = pd.get_dummies(data, columns=categorical_columns, prefix=categorical_columns)\n",
    "\n",
    "# Display the result\n",
    "print(\"One-Hot Encoded Data:\")\n",
    "print(data_one_hot)"
   ]
  },
  {
   "cell_type": "markdown",
   "id": "9cdd89a6-7244-4ee5-b6d4-e1e0da350ed2",
   "metadata": {},
   "source": [
    "#### Feature Scaling"
   ]
  },
  {
   "cell_type": "markdown",
   "id": "97983d38-4573-4bdb-8d0f-9e90094aebea",
   "metadata": {},
   "source": [
    "StandardScaler"
   ]
  },
  {
   "cell_type": "code",
   "execution_count": 100,
   "id": "c0741a36-d663-4710-aae8-859192084938",
   "metadata": {},
   "outputs": [
    {
     "name": "stdout",
     "output_type": "stream",
     "text": [
      "\n",
      "Standard Scaled Data:\n",
      "          Age    Salary  Gender  Company_CTS  Company_Congnizant  \\\n",
      "0   -1.411750  0.000000       0        False               False   \n",
      "1   -0.220887  0.000000       0        False               False   \n",
      "2    0.374545 -1.264122       0        False               False   \n",
      "3    0.969977 -0.967526       0        False               False   \n",
      "4   -1.054491 -0.543818       0        False               False   \n",
      "..        ...       ...     ...          ...                 ...   \n",
      "142 -1.173577  1.236606       0        False               False   \n",
      "143  0.136372  1.584894       1        False               False   \n",
      "145  1.446322 -0.529412       1        False               False   \n",
      "146  0.136372 -0.105703       1        False               False   \n",
      "147 -1.173577  1.236606       0        False               False   \n",
      "\n",
      "     Company_Infosys  Company_Infosys Pvt Lmt  Company_TCS  \\\n",
      "0              False                    False         True   \n",
      "1               True                    False        False   \n",
      "2              False                    False         True   \n",
      "3               True                    False        False   \n",
      "4              False                    False         True   \n",
      "..               ...                      ...          ...   \n",
      "142            False                     True        False   \n",
      "143            False                    False         True   \n",
      "145             True                    False        False   \n",
      "146            False                    False         True   \n",
      "147             True                    False        False   \n",
      "\n",
      "     Company_Tata Consultancy Services  Company_Unknown  ...  Place_Calcutta  \\\n",
      "0                                False            False  ...           False   \n",
      "1                                False            False  ...           False   \n",
      "2                                False            False  ...            True   \n",
      "3                                False            False  ...           False   \n",
      "4                                False            False  ...           False   \n",
      "..                                 ...              ...  ...             ...   \n",
      "142                              False            False  ...           False   \n",
      "143                              False            False  ...            True   \n",
      "145                              False            False  ...           False   \n",
      "146                              False            False  ...           False   \n",
      "147                              False            False  ...           False   \n",
      "\n",
      "     Place_Chennai  Place_Cochin  Place_Delhi  Place_Hyderabad  Place_Mumbai  \\\n",
      "0             True         False        False            False         False   \n",
      "1            False         False        False            False          True   \n",
      "2            False         False        False            False         False   \n",
      "3            False         False         True            False         False   \n",
      "4            False         False        False            False          True   \n",
      "..             ...           ...          ...              ...           ...   \n",
      "142          False         False        False            False          True   \n",
      "143          False         False        False            False         False   \n",
      "145          False         False         True            False         False   \n",
      "146          False         False        False            False          True   \n",
      "147          False          True        False            False         False   \n",
      "\n",
      "     Place_Nagpur  Place_Noida  Place_Podicherry  Place_Pune  \n",
      "0           False        False             False       False  \n",
      "1           False        False             False       False  \n",
      "2           False        False             False       False  \n",
      "3           False        False             False       False  \n",
      "4           False        False             False       False  \n",
      "..            ...          ...               ...         ...  \n",
      "142         False        False             False       False  \n",
      "143         False        False             False       False  \n",
      "145         False        False             False       False  \n",
      "146         False        False             False       False  \n",
      "147         False        False             False       False  \n",
      "\n",
      "[144 rows x 22 columns]\n"
     ]
    }
   ],
   "source": [
    "numerical_columns = ['Age', 'Salary']\n",
    "scaler_standard = StandardScaler()\n",
    "data_standard_scaled = data_one_hot.copy()\n",
    "data_standard_scaled[numerical_columns] = scaler_standard.fit_transform(data_one_hot[numerical_columns])\n",
    "\n",
    "print(\"\\nStandard Scaled Data:\")\n",
    "print(data_standard_scaled)"
   ]
  },
  {
   "cell_type": "markdown",
   "id": "7ffe296f-932f-4e21-92d1-1584fd27a51d",
   "metadata": {},
   "source": [
    "MinMax"
   ]
  },
  {
   "cell_type": "code",
   "execution_count": 102,
   "id": "d44e68a8-ced6-4a54-b218-37a5570fac0e",
   "metadata": {},
   "outputs": [
    {
     "name": "stdout",
     "output_type": "stream",
     "text": [
      "\n",
      "MinMax Scaled Data:\n",
      "          Age    Salary  Gender  Company_CTS  Company_Congnizant  \\\n",
      "0    0.081081  0.477350       0        False               False   \n",
      "1    0.351351  0.477350       0        False               False   \n",
      "2    0.486486  0.137817       0        False               False   \n",
      "3    0.621622  0.217480       0        False               False   \n",
      "4    0.162162  0.331285       0        False               False   \n",
      "..        ...       ...     ...          ...                 ...   \n",
      "142  0.135135  0.809491       0        False               False   \n",
      "143  0.432432  0.903039       1        False               False   \n",
      "145  0.729730  0.335154       1        False               False   \n",
      "146  0.432432  0.448959       1        False               False   \n",
      "147  0.135135  0.809491       0        False               False   \n",
      "\n",
      "     Company_Infosys  Company_Infosys Pvt Lmt  Company_TCS  \\\n",
      "0              False                    False         True   \n",
      "1               True                    False        False   \n",
      "2              False                    False         True   \n",
      "3               True                    False        False   \n",
      "4              False                    False         True   \n",
      "..               ...                      ...          ...   \n",
      "142            False                     True        False   \n",
      "143            False                    False         True   \n",
      "145             True                    False        False   \n",
      "146            False                    False         True   \n",
      "147             True                    False        False   \n",
      "\n",
      "     Company_Tata Consultancy Services  Company_Unknown  ...  Place_Calcutta  \\\n",
      "0                                False            False  ...           False   \n",
      "1                                False            False  ...           False   \n",
      "2                                False            False  ...            True   \n",
      "3                                False            False  ...           False   \n",
      "4                                False            False  ...           False   \n",
      "..                                 ...              ...  ...             ...   \n",
      "142                              False            False  ...           False   \n",
      "143                              False            False  ...            True   \n",
      "145                              False            False  ...           False   \n",
      "146                              False            False  ...           False   \n",
      "147                              False            False  ...           False   \n",
      "\n",
      "     Place_Chennai  Place_Cochin  Place_Delhi  Place_Hyderabad  Place_Mumbai  \\\n",
      "0             True         False        False            False         False   \n",
      "1            False         False        False            False          True   \n",
      "2            False         False        False            False         False   \n",
      "3            False         False         True            False         False   \n",
      "4            False         False        False            False          True   \n",
      "..             ...           ...          ...              ...           ...   \n",
      "142          False         False        False            False          True   \n",
      "143          False         False        False            False         False   \n",
      "145          False         False         True            False         False   \n",
      "146          False         False        False            False          True   \n",
      "147          False          True        False            False         False   \n",
      "\n",
      "     Place_Nagpur  Place_Noida  Place_Podicherry  Place_Pune  \n",
      "0           False        False             False       False  \n",
      "1           False        False             False       False  \n",
      "2           False        False             False       False  \n",
      "3           False        False             False       False  \n",
      "4           False        False             False       False  \n",
      "..            ...          ...               ...         ...  \n",
      "142         False        False             False       False  \n",
      "143         False        False             False       False  \n",
      "145         False        False             False       False  \n",
      "146         False        False             False       False  \n",
      "147         False        False             False       False  \n",
      "\n",
      "[144 rows x 22 columns]\n"
     ]
    }
   ],
   "source": [
    "scaler_minmax = MinMaxScaler()\n",
    "data_minmax_scaled = data_one_hot.copy()\n",
    "data_minmax_scaled[numerical_columns] = scaler_minmax.fit_transform(data_one_hot[numerical_columns])\n",
    "\n",
    "print(\"\\nMinMax Scaled Data:\")\n",
    "print(data_minmax_scaled)"
   ]
  },
  {
   "cell_type": "code",
   "execution_count": null,
   "id": "b15b48e4-0f74-42f2-903e-013f953be363",
   "metadata": {},
   "outputs": [],
   "source": []
  }
 ],
 "metadata": {
  "kernelspec": {
   "display_name": "Python [conda env:base] *",
   "language": "python",
   "name": "conda-base-py"
  },
  "language_info": {
   "codemirror_mode": {
    "name": "ipython",
    "version": 3
   },
   "file_extension": ".py",
   "mimetype": "text/x-python",
   "name": "python",
   "nbconvert_exporter": "python",
   "pygments_lexer": "ipython3",
   "version": "3.12.7"
  }
 },
 "nbformat": 4,
 "nbformat_minor": 5
}
